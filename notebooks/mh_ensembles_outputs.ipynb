{
 "cells": [
  {
   "cell_type": "markdown",
   "metadata": {},
   "source": [
    "# General\n",
    "\n",
    "This notebook is used to calculate and plot ensemble temperature figures for PMIP4 midHolocene paper."
   ]
  },
  {
   "cell_type": "markdown",
   "metadata": {},
   "source": [
    "### Import packages and define fucntions for calculations"
   ]
  },
  {
   "cell_type": "code",
   "execution_count": 1,
   "metadata": {},
   "outputs": [],
   "source": [
    "'''Import packages for loading data, analysing, and plotting'''\n",
    "\n",
    "import xarray as xr\n",
    "import matplotlib.pyplot as plt\n",
    "import numpy as np\n",
    "import pandas as pd\n",
    "import xesmf as xe\n",
    "%matplotlib inline\n",
    "import cartopy\n",
    "import cartopy.crs as ccrs\n",
    "import matplotlib\n",
    "from mpl_toolkits.axes_grid1 import make_axes_locatable\n",
    "import numpy.ma as ma\n",
    "import math\n",
    "import os\n",
    "import matplotlib.colors as colors\n",
    "import scipy\n",
    "from matplotlib.projections import PolarAxes\n",
    "import mpl_toolkits.axisartist.floating_axes as FA\n",
    "import mpl_toolkits.axisartist.grid_finder as GF\n"
   ]
  },
  {
   "cell_type": "code",
   "execution_count": 2,
   "metadata": {},
   "outputs": [],
   "source": [
    "#Define PMIP generations and model names\n",
    "pmip_v4='PMIP4'\n",
    "pmip_v3='PMIP3'\n",
    "pmip={}\n",
    "pmip['PMIP4']=['AWI-ESM-1-1-LR',\n",
    "               'CESM2',\n",
    "               'EC-Earth3-LR',\n",
    "               'FGOALS-f3-L',\n",
    "               'FGOALS-g3',\n",
    "               'GISS-E2-1-G',\n",
    "               'HadGEM3-GC31',\n",
    "               'INM-CM4-8',\n",
    "               'IPSL-CM6A-LR',\n",
    "               'MIROC-ES2L',\n",
    "               'MPI-ESM1-2-LR',\n",
    "               'MRI-ESM2-0',\n",
    "               'NESM3',\n",
    "               'NorESM1-F',\n",
    "               'NorESM2-LM',\n",
    "               'UofT-CCSM-4']\n",
    "pmip['PMIP3']=['BCC-CSM1-1',\n",
    "               'CCSM4',\n",
    "               'CNRM-CM5',\n",
    "               'CSIRO-Mk3L-1-2',\n",
    "               'CSIRO-Mk3-6-0',\n",
    "               'EC-EARTH-2-2',\n",
    "               'FGOALS-g2',\n",
    "               'FGOALS-s2',\n",
    "               'GISS-E2-R',\n",
    "               'HadGEM2-CC',\n",
    "               'HadGEM2-ES',\n",
    "               'IPSL-CM5A-LR',\n",
    "               'MIROC-ESM',\n",
    "               'MPI-ESM-P',\n",
    "               'MRI-CGCM3']\n",
    "               \n",
    "               \n",
    "  \n",
    "\n",
    "\n"
   ]
  },
  {
   "cell_type": "code",
   "execution_count": 3,
   "metadata": {},
   "outputs": [],
   "source": [
    "#No change needs here\n",
    "\n",
    "'''Define calculating functions'''\n",
    "\n",
    "#This function will get all available experiment names\n",
    "def experimentlist():\n",
    "    exps=[]\n",
    "    file_path = \"../data\" \n",
    "    for dirpaths, dirnames, filenames in os.walk(file_path):\n",
    "        for d in dirnames:\n",
    "            exps.append(d)\n",
    "    return exps\n",
    "\n",
    "#This function will get all available model names in the experiment \n",
    "def modellist(experiment_name):\n",
    "    models=[]\n",
    "    file_path = \"../data/%s\" %(experiment_name)\n",
    "    for dirpaths, dirnames, filenames in os.walk(file_path):\n",
    "        for f in filenames:\n",
    "            mname=f.split(\"_\")[0]\n",
    "            models.append(mname)\n",
    "    return models\n",
    "\n",
    "#This function will get all available filenames in the experiment \n",
    "def filenamelist(experiment_name):\n",
    "    filenames=[]\n",
    "    file_path = \"../data/%s\" %(experiment_name)\n",
    "    for dirpaths, dirnames, files in os.walk(file_path):\n",
    "        for f in files:\n",
    "            ff='../data/%s/%s'%(experiment_name,f)\n",
    "            filenames.append(ff)\n",
    "    return filenames\n",
    "\n",
    "#This function will identify models in the ensemble\n",
    "def identify_ensemble_members(variable_name,experiment_name):\n",
    "    datadir=\"../data/%s\" %(experiment_name)\n",
    "    ensemble_members=!../scripts/find_experiment_ensemble_members.bash {experiment_name} {variable_name} {datadir}\n",
    "    return ensemble_members\n",
    "\n",
    "#This function will list excat model name\n",
    "def extract_model_name(filename):\n",
    "    file_no_path=filename.rpartition(\"/\")\n",
    "    file_strings=file_no_path[2].partition(\"_\")\n",
    "    model_name=file_strings[0]\n",
    "    return model_name\n",
    "\n",
    "def ensemble_members_dict(variable_name,experiment_name):\n",
    "    ens_mems=identify_ensemble_members(variable_name,experiment_name)\n",
    "    ens_mems_dict={extract_model_name(ens_mems[0]):ens_mems[0]}\n",
    "    for mem in ens_mems[1:]:\n",
    "        ens_mems_dict[extract_model_name(mem)]=mem\n",
    "    return ens_mems_dict\n",
    "    \n"
   ]
  },
  {
   "cell_type": "markdown",
   "metadata": {},
   "source": [
    "# Create files"
   ]
  },
  {
   "cell_type": "markdown",
   "metadata": {},
   "source": [
    "## 180x360 Geo2D data files (individual models and ave and std)"
   ]
  },
  {
   "cell_type": "code",
   "execution_count": 4,
   "metadata": {},
   "outputs": [],
   "source": [
    "def ensemble_mean(pmip_v,variable_name,experiment_name,filename):\n",
    "    modellist=[]\n",
    "    lats=np.arange(-89.5, 90., 1.0)\n",
    "    lons=np.arange(-179.5, 180, 1.0)\n",
    "    grid_1x1= xr.Dataset({'lat': (['lat'],lats),\n",
    "                         'lon': (['lon'],lons)})\n",
    "    # Use the bash script to find files with the specified variable\n",
    "    gcm_dict=ensemble_members_dict(variable_name,experiment_name)\n",
    "\n",
    "    #how many of the models are from this generation?\n",
    "    n_gcms_of_pmip_v=0\n",
    "    for gcm in gcm_dict:\n",
    "        if gcm in pmip[pmip_v]:\n",
    "            n_gcms_of_pmip_v=n_gcms_of_pmip_v+1\n",
    "\n",
    "    gcms=np.arange(0,n_gcms_of_pmip_v,1)  \n",
    "    data=np.full((n_gcms_of_pmip_v,len(lats),len(lons)),np.nan)\n",
    "    n=0\n",
    "    for gcm in gcm_dict:\n",
    "        if gcm in pmip[pmip_v]:\n",
    "            modellist.append(gcm)\n",
    "            this_file=xr.open_dataset(gcm_dict.get(gcm),decode_times=False)\n",
    "            this_var=this_file[variable_name]\n",
    "            this_regridder=xe.Regridder(this_file,grid_1x1,'bilinear', reuse_weights=True,periodic=True) \n",
    "            var_1x1=this_regridder(this_var)\n",
    "            this_file.close()\n",
    "            data[n,:,:]=var_1x1\n",
    "            n=n+1\n",
    "\n",
    "    #write out dataset        \n",
    "    ds=xr.Dataset({variable_name:([\"gcms\",\"lat\",\"lon\"],data),\n",
    "                   \"modellist\":([\"gcms\"],modellist)},\n",
    "                 coords={'lat': (['lat'],lats),\n",
    "                         'lon': (['lon'],lons),\n",
    "                         'gcms':(['gcms'],gcms)})\n",
    "    ds.to_netcdf(filename)      \n",
    "    return modellist"
   ]
  },
  {
   "cell_type": "code",
   "execution_count": 5,
   "metadata": {},
   "outputs": [
    {
     "name": "stdout",
     "output_type": "stream",
     "text": [
      "Reuse existing file: bilinear_96x192_180x360_peri.nc\n",
      "Reuse existing file: bilinear_192x288_180x360_peri.nc\n",
      "Reuse existing file: bilinear_160x320_180x360_peri.nc\n",
      "Reuse existing file: bilinear_180x288_180x360_peri.nc\n",
      "Reuse existing file: bilinear_80x180_180x360_peri.nc\n"
     ]
    },
    {
     "name": "stderr",
     "output_type": "stream",
     "text": [
      "/srv/conda/envs/notebook/lib/python3.7/site-packages/xesmf/frontend.py:421: FutureWarning: ``output_sizes`` should be given in the ``dask_gufunc_kwargs`` parameter. It will be removed as direct parameter in a future version.\n",
      "  keep_attrs=keep_attrs\n"
     ]
    },
    {
     "name": "stdout",
     "output_type": "stream",
     "text": [
      "Reuse existing file: bilinear_90x144_180x360_peri.nc\n",
      "Reuse existing file: bilinear_120x180_180x360_peri.nc\n",
      "Reuse existing file: bilinear_143x144_180x360_peri.nc\n",
      "Reuse existing file: bilinear_64x128_180x360_peri.nc\n",
      "Reuse existing file: bilinear_96x192_180x360_peri.nc\n",
      "Reuse existing file: bilinear_160x320_180x360_peri.nc\n",
      "Reuse existing file: bilinear_96x192_180x360_peri.nc\n",
      "Reuse existing file: bilinear_96x144_180x360_peri.nc\n",
      "Reuse existing file: bilinear_96x144_180x360_peri.nc\n"
     ]
    },
    {
     "data": {
      "text/plain": [
       "['AWI-ESM-1-1-LR',\n",
       " 'CESM2',\n",
       " 'EC-Earth3-LR',\n",
       " 'FGOALS-f3-L',\n",
       " 'FGOALS-g3',\n",
       " 'GISS-E2-1-G',\n",
       " 'INM-CM4-8',\n",
       " 'IPSL-CM6A-LR',\n",
       " 'MIROC-ES2L',\n",
       " 'MPI-ESM1-2-LR',\n",
       " 'MRI-ESM2-0',\n",
       " 'NESM3',\n",
       " 'NorESM1-F',\n",
       " 'NorESM2-LM']"
      ]
     },
     "execution_count": 5,
     "metadata": {},
     "output_type": "execute_result"
    }
   ],
   "source": [
    "filename='../outputs/netcdf/PMIP4_midHolocene_monsoon.nc'\n",
    "pmip_v='PMIP4'\n",
    "experiment_name='midHolocene'\n",
    "variable_name='monsoon_summer_rainrate'\n",
    "a=ensemble_mean(pmip_v,variable_name,experiment_name,filename)\n",
    "a"
   ]
  },
  {
   "cell_type": "code",
   "execution_count": 6,
   "metadata": {},
   "outputs": [
    {
     "name": "stdout",
     "output_type": "stream",
     "text": [
      "Reuse existing file: bilinear_64x128_180x360_peri.nc\n",
      "Reuse existing file: bilinear_192x288_180x360_peri.nc\n",
      "Create weight file: bilinear_128x256_180x360_peri.nc\n"
     ]
    },
    {
     "name": "stderr",
     "output_type": "stream",
     "text": [
      "/srv/conda/envs/notebook/lib/python3.7/site-packages/xesmf/frontend.py:421: FutureWarning: ``output_sizes`` should be given in the ``dask_gufunc_kwargs`` parameter. It will be removed as direct parameter in a future version.\n",
      "  keep_attrs=keep_attrs\n"
     ]
    },
    {
     "name": "stdout",
     "output_type": "stream",
     "text": [
      "Reuse existing file: bilinear_96x192_180x360_peri.nc\n",
      "Create weight file: bilinear_56x64_180x360_peri.nc\n"
     ]
    },
    {
     "name": "stderr",
     "output_type": "stream",
     "text": [
      "/srv/conda/envs/notebook/lib/python3.7/site-packages/xesmf/frontend.py:421: FutureWarning: ``output_sizes`` should be given in the ``dask_gufunc_kwargs`` parameter. It will be removed as direct parameter in a future version.\n",
      "  keep_attrs=keep_attrs\n"
     ]
    },
    {
     "name": "stdout",
     "output_type": "stream",
     "text": [
      "Reuse existing file: bilinear_160x320_180x360_peri.nc\n",
      "Create weight file: bilinear_60x128_180x360_peri.nc\n"
     ]
    },
    {
     "name": "stderr",
     "output_type": "stream",
     "text": [
      "/srv/conda/envs/notebook/lib/python3.7/site-packages/xesmf/frontend.py:421: FutureWarning: ``output_sizes`` should be given in the ``dask_gufunc_kwargs`` parameter. It will be removed as direct parameter in a future version.\n",
      "  keep_attrs=keep_attrs\n"
     ]
    },
    {
     "name": "stdout",
     "output_type": "stream",
     "text": [
      "Create weight file: bilinear_108x128_180x360_peri.nc\n"
     ]
    },
    {
     "name": "stderr",
     "output_type": "stream",
     "text": [
      "/srv/conda/envs/notebook/lib/python3.7/site-packages/xesmf/frontend.py:421: FutureWarning: ``output_sizes`` should be given in the ``dask_gufunc_kwargs`` parameter. It will be removed as direct parameter in a future version.\n",
      "  keep_attrs=keep_attrs\n"
     ]
    },
    {
     "name": "stdout",
     "output_type": "stream",
     "text": [
      "Reuse existing file: bilinear_90x144_180x360_peri.nc\n",
      "Create weight file: bilinear_145x192_180x360_peri.nc\n"
     ]
    },
    {
     "name": "stderr",
     "output_type": "stream",
     "text": [
      "/srv/conda/envs/notebook/lib/python3.7/site-packages/xesmf/frontend.py:421: FutureWarning: ``output_sizes`` should be given in the ``dask_gufunc_kwargs`` parameter. It will be removed as direct parameter in a future version.\n",
      "  keep_attrs=keep_attrs\n"
     ]
    },
    {
     "name": "stdout",
     "output_type": "stream",
     "text": [
      "Reuse existing file: bilinear_145x192_180x360_peri.nc\n",
      "Create weight file: bilinear_96x96_180x360_peri.nc\n",
      "Reuse existing file: bilinear_64x128_180x360_peri.nc\n",
      "Reuse existing file: bilinear_96x192_180x360_peri.nc\n",
      "Reuse existing file: bilinear_160x320_180x360_peri.nc\n"
     ]
    },
    {
     "name": "stderr",
     "output_type": "stream",
     "text": [
      "/srv/conda/envs/notebook/lib/python3.7/site-packages/xesmf/frontend.py:421: FutureWarning: ``output_sizes`` should be given in the ``dask_gufunc_kwargs`` parameter. It will be removed as direct parameter in a future version.\n",
      "  keep_attrs=keep_attrs\n"
     ]
    }
   ],
   "source": [
    "filename='../outputs/netcdf/PMIP3_midHolocene_monsoon.nc'\n",
    "pmip_v='PMIP3'\n",
    "experiment_name='midHolocene'\n",
    "variable_name='monsoon_summer_rainrate'\n",
    "a=ensemble_mean(pmip_v,variable_name,experiment_name,filename)"
   ]
  },
  {
   "cell_type": "code",
   "execution_count": 7,
   "metadata": {},
   "outputs": [
    {
     "name": "stdout",
     "output_type": "stream",
     "text": [
      "Reuse existing file: bilinear_96x192_180x360_peri.nc\n",
      "Reuse existing file: bilinear_192x288_180x360_peri.nc\n",
      "Reuse existing file: bilinear_160x320_180x360_peri.nc\n",
      "Reuse existing file: bilinear_180x288_180x360_peri.nc\n",
      "Reuse existing file: bilinear_80x180_180x360_peri.nc\n",
      "Reuse existing file: bilinear_90x144_180x360_peri.nc\n",
      "Reuse existing file: bilinear_120x180_180x360_peri.nc\n",
      "Reuse existing file: bilinear_143x144_180x360_peri.nc\n",
      "Reuse existing file: bilinear_64x128_180x360_peri.nc\n",
      "Reuse existing file: bilinear_96x192_180x360_peri.nc\n",
      "Reuse existing file: bilinear_160x320_180x360_peri.nc\n",
      "Reuse existing file: bilinear_96x192_180x360_peri.nc\n",
      "Reuse existing file: bilinear_96x144_180x360_peri.nc\n",
      "Reuse existing file: bilinear_96x144_180x360_peri.nc\n",
      "Reuse existing file: bilinear_64x128_180x360_peri.nc\n",
      "Reuse existing file: bilinear_192x288_180x360_peri.nc\n",
      "Reuse existing file: bilinear_128x256_180x360_peri.nc\n",
      "Reuse existing file: bilinear_96x192_180x360_peri.nc\n",
      "Reuse existing file: bilinear_56x64_180x360_peri.nc\n",
      "Reuse existing file: bilinear_160x320_180x360_peri.nc\n",
      "Reuse existing file: bilinear_60x128_180x360_peri.nc\n",
      "Reuse existing file: bilinear_108x128_180x360_peri.nc\n",
      "Reuse existing file: bilinear_90x144_180x360_peri.nc\n",
      "Reuse existing file: bilinear_145x192_180x360_peri.nc\n",
      "Reuse existing file: bilinear_145x192_180x360_peri.nc\n",
      "Reuse existing file: bilinear_96x96_180x360_peri.nc\n",
      "Reuse existing file: bilinear_64x128_180x360_peri.nc\n",
      "Reuse existing file: bilinear_96x192_180x360_peri.nc\n",
      "Reuse existing file: bilinear_160x320_180x360_peri.nc\n"
     ]
    }
   ],
   "source": [
    "filename='../outputs/netcdf/PMIP4_piControl_tas_ann_2deg.nc'\n",
    "pmip_v='PMIP4'\n",
    "experiment_name='piControl'\n",
    "variable_name='tas_spatialmean_ann'\n",
    "a=ensemble_mean(pmip_v,variable_name,experiment_name,filename)\n",
    "filename='../outputs/netcdf/PMIP3_piControl_tas_ann_2deg.nc'\n",
    "pmip_v='PMIP3'\n",
    "experiment_name='piControl'\n",
    "variable_name='tas_spatialmean_ann'\n",
    "a=ensemble_mean(pmip_v,variable_name,experiment_name,filename)"
   ]
  },
  {
   "cell_type": "code",
   "execution_count": 8,
   "metadata": {},
   "outputs": [],
   "source": [
    "def ensemble_diffence(pmip_v,experiment_name,variable_name,filename):\n",
    "    modellist=[]\n",
    "    lats=np.arange(-89.5, 90., 1.0)\n",
    "    lons=np.arange(-179.5, 180, 1.0)\n",
    "    grid_1x1= xr.Dataset({'lat': (['lat'],lats),\n",
    "                         'lon': (['lon'],lons)})\n",
    "    # Use the bash script to find files with the specified variable\n",
    "    A_dict=ensemble_members_dict(variable_name,experiment_name)\n",
    "    B_dict=ensemble_members_dict(variable_name,'piControl')\n",
    "\n",
    "    #how many of the models are from this generation?\n",
    "    n_gcms_of_pmip_v=0\n",
    "    for gcm in A_dict:\n",
    "        if gcm in B_dict:\n",
    "            if gcm in pmip[pmip_v]:\n",
    "                n_gcms_of_pmip_v=n_gcms_of_pmip_v+1\n",
    "\n",
    "    #Set up the holding array\n",
    "    gcms=np.arange(0,n_gcms_of_pmip_v,1)  \n",
    "    data=np.full((n_gcms_of_pmip_v,len(lats),len(lons)),np.nan)\n",
    " \n",
    "    #loop over models\n",
    "    n=0\n",
    "    for gcm in A_dict:\n",
    "        if gcm in B_dict:\n",
    "            if gcm in pmip[pmip_v]:\n",
    "                modellist.append(gcm)\n",
    "                expt_a_file=xr.open_dataset(A_dict.get(gcm),decode_times=False)\n",
    "                expt_a=expt_a_file[variable_name]\n",
    "                expt_b_file=xr.open_dataset(B_dict.get(gcm),decode_times=False)\n",
    "                expt_b=expt_b_file[variable_name]\n",
    "                diff=expt_a-expt_b\n",
    "                this_regridder=xe.Regridder(expt_a_file,grid_1x1,'bilinear', reuse_weights=True,periodic=True) \n",
    "                diff_1x1=this_regridder(diff) \n",
    "                expt_a_file.close()\n",
    "                expt_b_file.close()\n",
    "                data[n,:,:]=diff_1x1\n",
    "                n=n+1\n",
    "\n",
    "    #write out dataset        \n",
    "    ds=xr.Dataset({variable_name:([\"gcms\",\"lat\",\"lon\"],data),\n",
    "                   \"modellist\":([\"gcms\"],modellist)},\n",
    "                 coords={'lat': (['lat'],lats),\n",
    "                         'lon': (['lon'],lons),\n",
    "                         'gcms':(['gcms'],gcms)})\n",
    "    ds.to_netcdf(filename)      \n",
    "\n",
    "    return modellist"
   ]
  },
  {
   "cell_type": "code",
   "execution_count": 9,
   "metadata": {},
   "outputs": [
    {
     "name": "stdout",
     "output_type": "stream",
     "text": [
      "Reuse existing file: bilinear_96x192_180x360_peri.nc\n",
      "Reuse existing file: bilinear_192x288_180x360_peri.nc\n",
      "Reuse existing file: bilinear_160x320_180x360_peri.nc\n",
      "Reuse existing file: bilinear_180x288_180x360_peri.nc\n",
      "Reuse existing file: bilinear_80x180_180x360_peri.nc\n",
      "Reuse existing file: bilinear_90x144_180x360_peri.nc\n",
      "Reuse existing file: bilinear_120x180_180x360_peri.nc\n",
      "Reuse existing file: bilinear_143x144_180x360_peri.nc\n",
      "Reuse existing file: bilinear_64x128_180x360_peri.nc\n",
      "Reuse existing file: bilinear_96x192_180x360_peri.nc\n",
      "Reuse existing file: bilinear_160x320_180x360_peri.nc\n",
      "Reuse existing file: bilinear_96x192_180x360_peri.nc\n",
      "Reuse existing file: bilinear_96x144_180x360_peri.nc\n",
      "Reuse existing file: bilinear_96x144_180x360_peri.nc\n"
     ]
    },
    {
     "data": {
      "text/plain": [
       "['AWI-ESM-1-1-LR',\n",
       " 'CESM2',\n",
       " 'EC-Earth3-LR',\n",
       " 'FGOALS-f3-L',\n",
       " 'FGOALS-g3',\n",
       " 'GISS-E2-1-G',\n",
       " 'INM-CM4-8',\n",
       " 'IPSL-CM6A-LR',\n",
       " 'MIROC-ES2L',\n",
       " 'MPI-ESM1-2-LR',\n",
       " 'MRI-ESM2-0',\n",
       " 'NESM3',\n",
       " 'NorESM1-F',\n",
       " 'NorESM2-LM']"
      ]
     },
     "execution_count": 9,
     "metadata": {},
     "output_type": "execute_result"
    }
   ],
   "source": [
    "filename='../outputs/netcdf/PMIP4_mh_diff_pr_jja_2deg.nc'\n",
    "pmip_v='PMIP4'\n",
    "experiment_name='midHolocene-cal-adj'\n",
    "variable_name='pr_spatialmean_jja'\n",
    "model_list=ensemble_diffence(pmip_v,experiment_name,variable_name,filename)\n",
    "model_list\n"
   ]
  },
  {
   "cell_type": "code",
   "execution_count": 10,
   "metadata": {},
   "outputs": [
    {
     "name": "stdout",
     "output_type": "stream",
     "text": [
      "Reuse existing file: bilinear_96x192_180x360_peri.nc\n",
      "Reuse existing file: bilinear_192x288_180x360_peri.nc\n",
      "Reuse existing file: bilinear_160x320_180x360_peri.nc\n",
      "Reuse existing file: bilinear_180x288_180x360_peri.nc\n",
      "Reuse existing file: bilinear_80x180_180x360_peri.nc\n",
      "Reuse existing file: bilinear_90x144_180x360_peri.nc\n",
      "Reuse existing file: bilinear_120x180_180x360_peri.nc\n",
      "Reuse existing file: bilinear_143x144_180x360_peri.nc\n",
      "Reuse existing file: bilinear_64x128_180x360_peri.nc\n",
      "Reuse existing file: bilinear_96x192_180x360_peri.nc\n",
      "Reuse existing file: bilinear_160x320_180x360_peri.nc\n",
      "Reuse existing file: bilinear_96x192_180x360_peri.nc\n",
      "Reuse existing file: bilinear_96x144_180x360_peri.nc\n",
      "Reuse existing file: bilinear_96x144_180x360_peri.nc\n"
     ]
    },
    {
     "data": {
      "text/plain": [
       "['AWI-ESM-1-1-LR',\n",
       " 'CESM2',\n",
       " 'EC-Earth3-LR',\n",
       " 'FGOALS-f3-L',\n",
       " 'FGOALS-g3',\n",
       " 'GISS-E2-1-G',\n",
       " 'INM-CM4-8',\n",
       " 'IPSL-CM6A-LR',\n",
       " 'MIROC-ES2L',\n",
       " 'MPI-ESM1-2-LR',\n",
       " 'MRI-ESM2-0',\n",
       " 'NESM3',\n",
       " 'NorESM1-F',\n",
       " 'NorESM2-LM']"
      ]
     },
     "execution_count": 10,
     "metadata": {},
     "output_type": "execute_result"
    }
   ],
   "source": [
    "filename='../outputs/netcdf/PMIP4_mh_diff_pr_djf_2deg.nc'\n",
    "pmip_v='PMIP4'\n",
    "experiment_name='midHolocene-cal-adj'\n",
    "variable_name='pr_spatialmean_djf'\n",
    "diff_list=ensemble_diffence(pmip_v,experiment_name,variable_name,filename)\n",
    "diff_list\n"
   ]
  },
  {
   "cell_type": "code",
   "execution_count": 11,
   "metadata": {},
   "outputs": [
    {
     "name": "stdout",
     "output_type": "stream",
     "text": [
      "Reuse existing file: bilinear_96x192_180x360_peri.nc\n",
      "Reuse existing file: bilinear_192x288_180x360_peri.nc\n",
      "Reuse existing file: bilinear_160x320_180x360_peri.nc\n",
      "Reuse existing file: bilinear_180x288_180x360_peri.nc\n",
      "Reuse existing file: bilinear_80x180_180x360_peri.nc\n",
      "Reuse existing file: bilinear_90x144_180x360_peri.nc\n",
      "Reuse existing file: bilinear_120x180_180x360_peri.nc\n",
      "Reuse existing file: bilinear_143x144_180x360_peri.nc\n",
      "Reuse existing file: bilinear_64x128_180x360_peri.nc\n",
      "Reuse existing file: bilinear_96x192_180x360_peri.nc\n",
      "Reuse existing file: bilinear_160x320_180x360_peri.nc\n",
      "Reuse existing file: bilinear_96x192_180x360_peri.nc\n",
      "Reuse existing file: bilinear_96x144_180x360_peri.nc\n",
      "Reuse existing file: bilinear_96x144_180x360_peri.nc\n"
     ]
    }
   ],
   "source": [
    "filename='../outputs/netcdf/PMIP4_mh_diff_tas_ann_2deg.nc'\n",
    "pmip_v='PMIP4'\n",
    "experiment_name='midHolocene'\n",
    "variable_name='tas_spatialmean_ann'\n",
    "diff_list=ensemble_diffence(pmip_v,experiment_name,variable_name,filename)"
   ]
  },
  {
   "cell_type": "code",
   "execution_count": 12,
   "metadata": {},
   "outputs": [
    {
     "name": "stdout",
     "output_type": "stream",
     "text": [
      "Reuse existing file: bilinear_64x128_180x360_peri.nc\n",
      "Reuse existing file: bilinear_192x288_180x360_peri.nc\n",
      "Reuse existing file: bilinear_128x256_180x360_peri.nc\n",
      "Reuse existing file: bilinear_96x192_180x360_peri.nc\n",
      "Reuse existing file: bilinear_56x64_180x360_peri.nc\n",
      "Reuse existing file: bilinear_160x320_180x360_peri.nc\n",
      "Reuse existing file: bilinear_60x128_180x360_peri.nc\n",
      "Reuse existing file: bilinear_108x128_180x360_peri.nc\n",
      "Reuse existing file: bilinear_90x144_180x360_peri.nc\n",
      "Reuse existing file: bilinear_145x192_180x360_peri.nc\n",
      "Reuse existing file: bilinear_145x192_180x360_peri.nc\n",
      "Reuse existing file: bilinear_96x96_180x360_peri.nc\n",
      "Reuse existing file: bilinear_64x128_180x360_peri.nc\n",
      "Reuse existing file: bilinear_96x192_180x360_peri.nc\n",
      "Reuse existing file: bilinear_160x320_180x360_peri.nc\n"
     ]
    }
   ],
   "source": [
    "filename='../outputs/netcdf/PMIP3_mh_diff_tas_ann_2deg.nc'\n",
    "pmip_v='PMIP3'\n",
    "experiment_name='midHolocene'\n",
    "variable_name='tas_spatialmean_ann'\n",
    "diff_list=ensemble_diffence(pmip_v,experiment_name,variable_name,filename)"
   ]
  },
  {
   "cell_type": "code",
   "execution_count": 13,
   "metadata": {},
   "outputs": [
    {
     "name": "stdout",
     "output_type": "stream",
     "text": [
      "Reuse existing file: bilinear_96x192_180x360_peri.nc\n",
      "Reuse existing file: bilinear_192x288_180x360_peri.nc\n",
      "Reuse existing file: bilinear_160x320_180x360_peri.nc\n",
      "Reuse existing file: bilinear_180x288_180x360_peri.nc\n",
      "Reuse existing file: bilinear_80x180_180x360_peri.nc\n",
      "Reuse existing file: bilinear_90x144_180x360_peri.nc\n",
      "Reuse existing file: bilinear_120x180_180x360_peri.nc\n",
      "Reuse existing file: bilinear_143x144_180x360_peri.nc\n",
      "Reuse existing file: bilinear_64x128_180x360_peri.nc\n",
      "Reuse existing file: bilinear_96x192_180x360_peri.nc\n",
      "Reuse existing file: bilinear_160x320_180x360_peri.nc\n",
      "Reuse existing file: bilinear_96x192_180x360_peri.nc\n",
      "Reuse existing file: bilinear_96x144_180x360_peri.nc\n",
      "Reuse existing file: bilinear_96x144_180x360_peri.nc\n"
     ]
    }
   ],
   "source": [
    "filename='../outputs/netcdf/PMIP4_mh_diff_pr_ann_2deg.nc'\n",
    "pmip_v='PMIP4'\n",
    "experiment_name='midHolocene'\n",
    "variable_name='pr_spatialmean_ann'\n",
    "diff_list=ensemble_diffence(pmip_v,experiment_name,variable_name,filename)\n"
   ]
  },
  {
   "cell_type": "code",
   "execution_count": 14,
   "metadata": {},
   "outputs": [
    {
     "name": "stdout",
     "output_type": "stream",
     "text": [
      "Reuse existing file: bilinear_64x128_180x360_peri.nc\n",
      "Reuse existing file: bilinear_192x288_180x360_peri.nc\n",
      "Reuse existing file: bilinear_128x256_180x360_peri.nc\n",
      "Reuse existing file: bilinear_96x192_180x360_peri.nc\n",
      "Reuse existing file: bilinear_56x64_180x360_peri.nc\n",
      "Reuse existing file: bilinear_160x320_180x360_peri.nc\n",
      "Reuse existing file: bilinear_60x128_180x360_peri.nc\n",
      "Reuse existing file: bilinear_108x128_180x360_peri.nc\n",
      "Reuse existing file: bilinear_90x144_180x360_peri.nc\n",
      "Reuse existing file: bilinear_145x192_180x360_peri.nc\n",
      "Reuse existing file: bilinear_145x192_180x360_peri.nc\n",
      "Reuse existing file: bilinear_96x96_180x360_peri.nc\n",
      "Reuse existing file: bilinear_64x128_180x360_peri.nc\n",
      "Reuse existing file: bilinear_96x192_180x360_peri.nc\n",
      "Reuse existing file: bilinear_160x320_180x360_peri.nc\n"
     ]
    }
   ],
   "source": [
    "filename='../outputs/netcdf/PMIP3_mh_diff_tas_jja_2deg.nc'\n",
    "pmip_v='PMIP3'\n",
    "experiment_name='midHolocene-cal-adj'\n",
    "variable_name='tas_spatialmean_jja'\n",
    "diff_list=ensemble_diffence(pmip_v,experiment_name,variable_name,filename)"
   ]
  },
  {
   "cell_type": "code",
   "execution_count": 34,
   "metadata": {},
   "outputs": [
    {
     "name": "stdout",
     "output_type": "stream",
     "text": [
      "Reuse existing file: bilinear_96x192_180x360_peri.nc\n",
      "Reuse existing file: bilinear_192x288_180x360_peri.nc\n",
      "Reuse existing file: bilinear_160x320_180x360_peri.nc\n",
      "Reuse existing file: bilinear_180x288_180x360_peri.nc\n",
      "Reuse existing file: bilinear_80x180_180x360_peri.nc\n",
      "Reuse existing file: bilinear_90x144_180x360_peri.nc\n",
      "Reuse existing file: bilinear_120x180_180x360_peri.nc\n",
      "Reuse existing file: bilinear_143x144_180x360_peri.nc\n",
      "Reuse existing file: bilinear_64x128_180x360_peri.nc\n",
      "Reuse existing file: bilinear_96x192_180x360_peri.nc\n",
      "Reuse existing file: bilinear_160x320_180x360_peri.nc\n",
      "Reuse existing file: bilinear_96x192_180x360_peri.nc\n",
      "Reuse existing file: bilinear_96x144_180x360_peri.nc\n",
      "Reuse existing file: bilinear_96x144_180x360_peri.nc\n"
     ]
    }
   ],
   "source": [
    "filename='../outputs/netcdf/PMIP4_mh_diff_tas_jja_2deg.nc'\n",
    "pmip_v='PMIP4'\n",
    "experiment_name='midHolocene-cal-adj'\n",
    "variable_name='tas_spatialmean_jja'\n",
    "diff_list=ensemble_diffence(pmip_v,experiment_name,variable_name,filename)"
   ]
  },
  {
   "cell_type": "code",
   "execution_count": 15,
   "metadata": {},
   "outputs": [
    {
     "name": "stdout",
     "output_type": "stream",
     "text": [
      "Reuse existing file: bilinear_64x128_180x360_peri.nc\n",
      "Reuse existing file: bilinear_192x288_180x360_peri.nc\n",
      "Reuse existing file: bilinear_128x256_180x360_peri.nc\n",
      "Reuse existing file: bilinear_96x192_180x360_peri.nc\n",
      "Reuse existing file: bilinear_56x64_180x360_peri.nc\n",
      "Reuse existing file: bilinear_160x320_180x360_peri.nc\n",
      "Reuse existing file: bilinear_60x128_180x360_peri.nc\n",
      "Reuse existing file: bilinear_108x128_180x360_peri.nc\n",
      "Reuse existing file: bilinear_90x144_180x360_peri.nc\n",
      "Reuse existing file: bilinear_145x192_180x360_peri.nc\n",
      "Reuse existing file: bilinear_145x192_180x360_peri.nc\n",
      "Reuse existing file: bilinear_96x96_180x360_peri.nc\n",
      "Reuse existing file: bilinear_64x128_180x360_peri.nc\n",
      "Reuse existing file: bilinear_96x192_180x360_peri.nc\n",
      "Reuse existing file: bilinear_160x320_180x360_peri.nc\n"
     ]
    }
   ],
   "source": [
    "filename='../outputs/netcdf/PMIP3_mh_diff_tas_djf_2deg.nc'\n",
    "pmip_v='PMIP3'\n",
    "experiment_name='midHolocene-cal-adj'\n",
    "variable_name='tas_spatialmean_djf'\n",
    "diff_list=ensemble_diffence(pmip_v,experiment_name,variable_name,filename)"
   ]
  },
  {
   "cell_type": "code",
   "execution_count": 33,
   "metadata": {},
   "outputs": [
    {
     "name": "stdout",
     "output_type": "stream",
     "text": [
      "Reuse existing file: bilinear_96x192_180x360_peri.nc\n",
      "Reuse existing file: bilinear_192x288_180x360_peri.nc\n",
      "Reuse existing file: bilinear_160x320_180x360_peri.nc\n",
      "Reuse existing file: bilinear_180x288_180x360_peri.nc\n",
      "Reuse existing file: bilinear_80x180_180x360_peri.nc\n",
      "Reuse existing file: bilinear_90x144_180x360_peri.nc\n",
      "Reuse existing file: bilinear_120x180_180x360_peri.nc\n",
      "Reuse existing file: bilinear_143x144_180x360_peri.nc\n",
      "Reuse existing file: bilinear_64x128_180x360_peri.nc\n",
      "Reuse existing file: bilinear_96x192_180x360_peri.nc\n",
      "Reuse existing file: bilinear_160x320_180x360_peri.nc\n",
      "Reuse existing file: bilinear_96x192_180x360_peri.nc\n",
      "Reuse existing file: bilinear_96x144_180x360_peri.nc\n",
      "Reuse existing file: bilinear_96x144_180x360_peri.nc\n"
     ]
    }
   ],
   "source": [
    "filename='../outputs/netcdf/PMIP4_mh_diff_tas_djf_2deg.nc'\n",
    "pmip_v='PMIP4'\n",
    "experiment_name='midHolocene-cal-adj'\n",
    "variable_name='tas_spatialmean_djf'\n",
    "diff_list=ensemble_diffence(pmip_v,experiment_name,variable_name,filename)"
   ]
  },
  {
   "cell_type": "code",
   "execution_count": 16,
   "metadata": {},
   "outputs": [
    {
     "name": "stdout",
     "output_type": "stream",
     "text": [
      "Reuse existing file: bilinear_64x128_180x360_peri.nc\n",
      "Reuse existing file: bilinear_192x288_180x360_peri.nc\n",
      "Reuse existing file: bilinear_128x256_180x360_peri.nc\n",
      "Reuse existing file: bilinear_96x192_180x360_peri.nc\n",
      "Reuse existing file: bilinear_56x64_180x360_peri.nc\n",
      "Reuse existing file: bilinear_160x320_180x360_peri.nc\n",
      "Reuse existing file: bilinear_60x128_180x360_peri.nc\n",
      "Reuse existing file: bilinear_108x128_180x360_peri.nc\n",
      "Reuse existing file: bilinear_90x144_180x360_peri.nc\n",
      "Reuse existing file: bilinear_145x192_180x360_peri.nc\n",
      "Reuse existing file: bilinear_145x192_180x360_peri.nc\n",
      "Reuse existing file: bilinear_96x96_180x360_peri.nc\n",
      "Reuse existing file: bilinear_64x128_180x360_peri.nc\n",
      "Reuse existing file: bilinear_96x192_180x360_peri.nc\n",
      "Reuse existing file: bilinear_160x320_180x360_peri.nc\n"
     ]
    }
   ],
   "source": [
    "filename='../outputs/netcdf/PMIP3_mh_diff_pr_jja_2deg.nc'\n",
    "pmip_v='PMIP3'\n",
    "experiment_name='midHolocene-cal-adj'\n",
    "variable_name='pr_spatialmean_jja'\n",
    "diff_list=ensemble_diffence(pmip_v,experiment_name,variable_name,filename)"
   ]
  },
  {
   "cell_type": "code",
   "execution_count": 17,
   "metadata": {},
   "outputs": [
    {
     "name": "stdout",
     "output_type": "stream",
     "text": [
      "Reuse existing file: bilinear_64x128_180x360_peri.nc\n",
      "Reuse existing file: bilinear_192x288_180x360_peri.nc\n",
      "Reuse existing file: bilinear_128x256_180x360_peri.nc\n",
      "Reuse existing file: bilinear_96x192_180x360_peri.nc\n",
      "Reuse existing file: bilinear_56x64_180x360_peri.nc\n",
      "Reuse existing file: bilinear_160x320_180x360_peri.nc\n",
      "Reuse existing file: bilinear_60x128_180x360_peri.nc\n",
      "Reuse existing file: bilinear_108x128_180x360_peri.nc\n",
      "Reuse existing file: bilinear_90x144_180x360_peri.nc\n",
      "Reuse existing file: bilinear_145x192_180x360_peri.nc\n",
      "Reuse existing file: bilinear_145x192_180x360_peri.nc\n",
      "Reuse existing file: bilinear_96x96_180x360_peri.nc\n",
      "Reuse existing file: bilinear_64x128_180x360_peri.nc\n",
      "Reuse existing file: bilinear_96x192_180x360_peri.nc\n",
      "Reuse existing file: bilinear_160x320_180x360_peri.nc\n"
     ]
    }
   ],
   "source": [
    "filename='../outputs/netcdf/PMIP3_mh_diff_pr_djf_2deg.nc'\n",
    "pmip_v='PMIP3'\n",
    "experiment_name='midHolocene-cal-adj'\n",
    "variable_name='pr_spatialmean_djf'\n",
    "diff_list=ensemble_diffence(pmip_v,experiment_name,variable_name,filename)"
   ]
  },
  {
   "cell_type": "code",
   "execution_count": 18,
   "metadata": {},
   "outputs": [
    {
     "name": "stdout",
     "output_type": "stream",
     "text": [
      "Reuse existing file: bilinear_64x128_180x360_peri.nc\n",
      "Reuse existing file: bilinear_192x288_180x360_peri.nc\n",
      "Reuse existing file: bilinear_128x256_180x360_peri.nc\n",
      "Reuse existing file: bilinear_96x192_180x360_peri.nc\n",
      "Reuse existing file: bilinear_56x64_180x360_peri.nc\n",
      "Reuse existing file: bilinear_160x320_180x360_peri.nc\n",
      "Reuse existing file: bilinear_60x128_180x360_peri.nc\n",
      "Reuse existing file: bilinear_108x128_180x360_peri.nc\n",
      "Reuse existing file: bilinear_90x144_180x360_peri.nc\n",
      "Reuse existing file: bilinear_145x192_180x360_peri.nc\n",
      "Reuse existing file: bilinear_145x192_180x360_peri.nc\n",
      "Reuse existing file: bilinear_96x96_180x360_peri.nc\n",
      "Reuse existing file: bilinear_64x128_180x360_peri.nc\n",
      "Reuse existing file: bilinear_96x192_180x360_peri.nc\n",
      "Reuse existing file: bilinear_160x320_180x360_peri.nc\n"
     ]
    }
   ],
   "source": [
    "filename='../outputs/netcdf/PMIP3_mh_diff_tas_ann_2deg.nc'\n",
    "pmip_v='PMIP3'\n",
    "experiment_name='midHolocene'\n",
    "variable_name='tas_spatialmean_ann'\n",
    "diff_list=ensemble_diffence(pmip_v,experiment_name,variable_name,filename)"
   ]
  },
  {
   "cell_type": "code",
   "execution_count": 19,
   "metadata": {},
   "outputs": [
    {
     "name": "stdout",
     "output_type": "stream",
     "text": [
      "Reuse existing file: bilinear_64x128_180x360_peri.nc\n",
      "Reuse existing file: bilinear_192x288_180x360_peri.nc\n",
      "Reuse existing file: bilinear_128x256_180x360_peri.nc\n",
      "Reuse existing file: bilinear_96x192_180x360_peri.nc\n",
      "Reuse existing file: bilinear_56x64_180x360_peri.nc\n",
      "Reuse existing file: bilinear_160x320_180x360_peri.nc\n",
      "Reuse existing file: bilinear_60x128_180x360_peri.nc\n",
      "Reuse existing file: bilinear_108x128_180x360_peri.nc\n",
      "Reuse existing file: bilinear_90x144_180x360_peri.nc\n",
      "Reuse existing file: bilinear_145x192_180x360_peri.nc\n",
      "Reuse existing file: bilinear_145x192_180x360_peri.nc\n",
      "Reuse existing file: bilinear_96x96_180x360_peri.nc\n",
      "Reuse existing file: bilinear_64x128_180x360_peri.nc\n",
      "Reuse existing file: bilinear_96x192_180x360_peri.nc\n",
      "Reuse existing file: bilinear_160x320_180x360_peri.nc\n"
     ]
    }
   ],
   "source": [
    "filename='../outputs/netcdf/PMIP3_mh_diff_pr_ann_2deg.nc'\n",
    "pmip_v='PMIP3'\n",
    "experiment_name='midHolocene'\n",
    "variable_name='pr_spatialmean_ann'\n",
    "diff_list=ensemble_diffence(pmip_v,experiment_name,variable_name,filename)"
   ]
  },
  {
   "cell_type": "code",
   "execution_count": 20,
   "metadata": {},
   "outputs": [],
   "source": [
    "# figure 2 , averaged bands"
   ]
  },
  {
   "cell_type": "code",
   "execution_count": 21,
   "metadata": {},
   "outputs": [],
   "source": [
    "modellist4= pd.read_csv('PMIP4_modellist.csv',skipinitialspace=True,header=0)['model']\n",
    "modellist3= pd.read_csv('PMIP3_modellist.csv',skipinitialspace=True,header=0)['model']"
   ]
  },
  {
   "cell_type": "code",
   "execution_count": 22,
   "metadata": {},
   "outputs": [],
   "source": [
    "#Weighted array\n",
    "#equator=0: cos\n",
    "#equatro=90: sin\n",
    "#Weighted array\n",
    "#equator=0: cos\n",
    "#equatro=90: sin\n",
    "w=[]\n",
    "a_LAT=180\n",
    "a_LON=360\n",
    "for l in range(0,a_LAT): #lat No.\n",
    "        lat=l*180/a_LAT\n",
    "        lats=np.deg2rad(lat)\n",
    "        we=np.sin(lats)\n",
    "        w.append(we)\n",
    "\n",
    "a2=np.ones((a_LAT,a_LON)) #lat X lon\n",
    "for r in range(0,a_LAT):\n",
    "    for c in range(0,a_LON):\n",
    "        a2[r,c]=a2[r,c]*w[r]\n",
    "\n"
   ]
  },
  {
   "cell_type": "code",
   "execution_count": 23,
   "metadata": {},
   "outputs": [],
   "source": [
    "#This function creates zonal means. I'm sure it could be written more succinctly\n",
    "def zonal(filename,variable_name,pmip_v): \n",
    "    modellist=pd.read_csv('%s_modellist.csv'%pmip_v,skipinitialspace=True,header=0)['model']\n",
    "    x=np.arange(0,181,30)\n",
    "    this_file=xr.open_dataset(filename,decode_times=False)\n",
    "    gcm_dict=dict(zip(this_file[\"modellist\"].values,this_file[\"gcms\"].values))\n",
    "    data4={}\n",
    "    for m in modellist:\n",
    "        if m in this_file[\"modellist\"].values:\n",
    "            data4[gcm_dict[m]]=[]\n",
    "            for i in range(len(x)-1):\n",
    "                this_var=this_file[variable_name]\n",
    "                men=this_var[gcm_dict[m]][x[i]:x[i+1]]\n",
    "                xx=np.average(men,weights=a2[x[i]:x[i+1]])\n",
    "                data4[gcm_dict[m]].append(xx)\n",
    "\n",
    "    return data4\n"
   ]
  },
  {
   "cell_type": "code",
   "execution_count": 24,
   "metadata": {},
   "outputs": [],
   "source": [
    "filename='../outputs/netcdf/PMIP4_mh_diff_tas_ann_2deg.nc'\n",
    "data=zonal(filename,\"tas_spatialmean_ann\",'PMIP4')\n",
    "pd.DataFrame(data).to_csv('../outputs/csv/PMIP4_mh_diff_zonal_tas_ann.csv')"
   ]
  },
  {
   "cell_type": "code",
   "execution_count": 25,
   "metadata": {},
   "outputs": [],
   "source": [
    "filename='../outputs/netcdf/PMIP4_piControl_tas_ann_2deg.nc'\n",
    "data=zonal(filename,\"tas_spatialmean_ann\",'PMIP4')\n",
    "pd.DataFrame(data).to_csv('../outputs/csv/PMIP4_piControl_zonal_tas_ann.csv')"
   ]
  },
  {
   "cell_type": "code",
   "execution_count": 26,
   "metadata": {},
   "outputs": [],
   "source": [
    "filename='../outputs/netcdf/PMIP3_mh_diff_tas_ann_2deg.nc'\n",
    "data=zonal(filename,'tas_spatialmean_ann','PMIP3')\n",
    "pd.DataFrame(data).to_csv('../outputs/csv/PMIP3_mh_diff_zonal_tas_ann.csv')"
   ]
  },
  {
   "cell_type": "code",
   "execution_count": 27,
   "metadata": {},
   "outputs": [],
   "source": [
    "filename='../outputs/netcdf/PMIP3_piControl_tas_ann_2deg.nc'\n",
    "data=zonal(filename,'tas_spatialmean_ann','PMIP3')\n",
    "pd.DataFrame(data).to_csv('../outputs/csv/PMIP3_piControl_zonal_tas_ann.csv')"
   ]
  },
  {
   "cell_type": "code",
   "execution_count": 28,
   "metadata": {},
   "outputs": [],
   "source": [
    "# Monsoon files"
   ]
  },
  {
   "cell_type": "code",
   "execution_count": 29,
   "metadata": {},
   "outputs": [],
   "source": [
    "def monsoon_cal(monsoon_name,experiment_name,pmip_v):\n",
    "    monsoonlist=['NAF','EAS','AUSMC','NAMS','SAF','SAMS','SAS']\n",
    "    data={}\n",
    "    rainfall_name='monsoon_rain_%s' %monsoon_name\n",
    "    area_name='monsoon_area_%s' %monsoon_name\n",
    "    A_dict=ensemble_members_dict(rainfall_name,experiment_name)\n",
    "    B_dict=ensemble_members_dict(rainfall_name,'piControl')\n",
    "    for gcm in A_dict:\n",
    "        if gcm in B_dict:\n",
    "            if gcm in pmip[pmip_v]:\n",
    "                expt_a_file=xr.open_dataset(A_dict.get(gcm),decode_times=False)\n",
    "                expt_rain=expt_a_file[rainfall_name]\n",
    "                expt_mean_rain=np.nanmean(expt_rain)\n",
    "                expt_std_rain=np.nanstd(expt_rain)\n",
    "                expt_area=expt_a_file[area_name]\n",
    "                expt_mean_area=np.nanmean(expt_area)\n",
    "                expt_std_area=np.nanstd(expt_area)\n",
    "                expt_water=expt_rain*expt_area\n",
    "                expt_mean_water=np.nanmean(expt_water)\n",
    "                expt_b_file=xr.open_dataset(B_dict.get(gcm),decode_times=False)\n",
    "                pi_rain=expt_b_file[rainfall_name]\n",
    "                pi_mean_rain=np.nanmean(pi_rain)\n",
    "                pi_std_rain=np.nanstd(pi_rain)\n",
    "                pi_area=expt_b_file[area_name]\n",
    "                pi_mean_area=np.nanmean(pi_area)\n",
    "                pi_std_area=np.nanstd(pi_area)\n",
    "                pi_water=pi_rain*pi_area\n",
    "                pi_mean_water=np.nanmean(pi_water)\n",
    "                pav=(expt_mean_rain-pi_mean_rain)*100/pi_mean_rain\n",
    "                psd=(expt_std_rain-pi_std_rain)*100/pi_std_rain\n",
    "                aav=(expt_mean_area-pi_mean_area)*100/pi_mean_area\n",
    "                asd=(expt_std_area-pi_std_area)*100/pi_std_area\n",
    "                water=(expt_mean_water-pi_mean_water)*100/pi_mean_water\n",
    "                data[gcm]=[pav,psd,aav,asd,water]\n",
    "    f3='../outputs/csv/%s_%s.csv' %(pmip_v,monsoon_name)\n",
    "    DD=pd.DataFrame(data)\n",
    "    DD.to_csv(f3)\n",
    "    return data\n",
    "\n",
    "def monsoonchange(pmip_v,experiment_name):\n",
    "    monsoonlist=['NAF','EAS','AUSMC','NAMS','SAF','SAMS','SAS',]\n",
    "    modellistname='%s_modellist.csv'%pmip_v\n",
    "    model_list4= pd.read_csv(modellistname,skipinitialspace=True,header=0)['model']\n",
    "    pav_data4={}\n",
    "    psd_data4={}\n",
    "    aav_data4={}\n",
    "    asd_data4={}\n",
    "    water_data4={}\n",
    "    for m in model_list4:\n",
    "        pav_data4[m]=[]\n",
    "        psd_data4[m]=[]\n",
    "        aav_data4[m]=[]\n",
    "        asd_data4[m]=[]\n",
    "        water_data4[m]=[]\n",
    "    for monsoon_name in monsoonlist:\n",
    "        data4=monsoon_cal(monsoon_name,experiment_name,pmip_v)\n",
    "        for m in model_list4:\n",
    "            if m in data4:\n",
    "                pav_data4[m].append(data4[m][0])\n",
    "                psd_data4[m].append(data4[m][1])\n",
    "                aav_data4[m].append(data4[m][2])\n",
    "                asd_data4[m].append(data4[m][3])\n",
    "                water_data4[m].append(data4[m][4])\n",
    "            else:\n",
    "                pav_data4[m].append(np.nan)\n",
    "                psd_data4[m].append(np.nan)\n",
    "                aav_data4[m].append(np.nan)\n",
    "                asd_data4[m].append(np.nan)\n",
    "                water_data4[m].append(np.nan)\n",
    "                \n",
    "    pd.DataFrame(pav_data4).to_csv('../outputs/csv/%s_pav.csv'%pmip_v)\n",
    "    pd.DataFrame(aav_data4).to_csv('../outputs/csv/%s_aav.csv'%pmip_v)\n",
    "    pd.DataFrame(psd_data4).to_csv('../outputs/csv/%s_psd.csv'%pmip_v)\n",
    "    pd.DataFrame(asd_data4).to_csv('../outputs/csv/%s_asd.csv'%pmip_v)\n",
    "    pd.DataFrame(water_data4).to_csv('../outputs/csv/%s_totwater.csv'%pmip_v)\n",
    "\n",
    "\n"
   ]
  },
  {
   "cell_type": "code",
   "execution_count": 30,
   "metadata": {},
   "outputs": [],
   "source": [
    "monsoonchange('PMIP4','midHolocene')\n",
    "monsoonchange('PMIP3','midHolocene')"
   ]
  },
  {
   "cell_type": "code",
   "execution_count": 31,
   "metadata": {},
   "outputs": [],
   "source": [
    "def calaverage(pmip_v):\n",
    "    varlist=['pav','psd','aav','asd','totwater']\n",
    "    for v in varlist:    \n",
    "        mon=v\n",
    "        data=pd.read_csv('../outputs/csv/%s_%s.csv'%(pmip_v,mon),skipinitialspace=True,header=0)\n",
    "        D=np.array(data)[:,1:]\n",
    "        ave=np.average(D,axis=1)\n",
    "        data['average']=ave\n",
    "        data.to_csv('../outputs/csv/%s_%s.csv'%(pmip_v,mon))"
   ]
  },
  {
   "cell_type": "code",
   "execution_count": 32,
   "metadata": {},
   "outputs": [],
   "source": [
    "calaverage('PMIP4')\n",
    "calaverage('PMIP3')"
   ]
  }
 ],
 "metadata": {
  "kernelspec": {
   "display_name": "Python 3",
   "language": "python",
   "name": "python3"
  },
  "language_info": {
   "codemirror_mode": {
    "name": "ipython",
    "version": 3
   },
   "file_extension": ".py",
   "mimetype": "text/x-python",
   "name": "python",
   "nbconvert_exporter": "python",
   "pygments_lexer": "ipython3",
   "version": "3.7.6"
  }
 },
 "nbformat": 4,
 "nbformat_minor": 4
}
