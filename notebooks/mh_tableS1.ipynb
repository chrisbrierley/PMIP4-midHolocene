{
 "cells": [
  {
   "cell_type": "code",
   "execution_count": 1,
   "metadata": {},
   "outputs": [],
   "source": [
    "#import packages\n",
    "import xarray as xr\n",
    "import matplotlib.pyplot as plt\n",
    "import numpy as np\n",
    "import pandas as pd\n",
    "import xesmf as xe\n",
    "%matplotlib inline\n",
    "import cartopy\n",
    "import cartopy.crs as ccrs\n",
    "import matplotlib\n",
    "from netCDF4 import Dataset\n",
    "from mpl_toolkits.axes_grid1 import make_axes_locatable\n",
    "import numpy.ma as ma\n",
    "import math\n",
    "import xlrd\n",
    "import os\n",
    "import matplotlib.colors as colors\n",
    "import seaborn as sns\n",
    "import scipy\n",
    "import regionmask\n",
    "\n",
    "from scipy.interpolate import interp1d\n",
    "from scipy import interpolate"
   ]
  },
  {
   "cell_type": "code",
   "execution_count": 2,
   "metadata": {},
   "outputs": [],
   "source": [
    "modellist4= pd.read_csv('PMIP4_modellist.csv',skipinitialspace=True,header=0)['model']\n",
    "modellist3= pd.read_csv('PMIP3_modellist.csv',skipinitialspace=True,header=0)['model']\n",
    "               \n",
    "               \n",
    "  \n",
    "\n",
    "\n",
    "\n"
   ]
  },
  {
   "cell_type": "code",
   "execution_count": 3,
   "metadata": {},
   "outputs": [],
   "source": [
    "# load file\n",
    "def opendata(p,v):\n",
    "    modellist= pd.read_csv('%s_modellist.csv'%p,skipinitialspace=True,header=0)['model']\n",
    "    f='../outputs/netcdf/%s_mh_diff_%s.nc'%(p,v)\n",
    "    df=xr.open_dataset(f,decode_times=False)\n",
    "    DATA={}\n",
    "    for m in modellist:\n",
    "        DATA[m]=df[m]\n",
    "    return DATA"
   ]
  },
  {
   "cell_type": "markdown",
   "metadata": {},
   "source": [
    "# 1. Global mean temperature \n",
    "lat weighting"
   ]
  },
  {
   "cell_type": "code",
   "execution_count": 5,
   "metadata": {},
   "outputs": [],
   "source": [
    "#Weighted array\n",
    "#equator=0: cos\n",
    "#equatro=90: sin\n",
    "#Weighted array\n",
    "#equator=0: cos\n",
    "#equatro=90: sin\n",
    "w=[]\n",
    "a_LAT=180\n",
    "a_LON=360\n",
    "for l in range(0,a_LAT): #lat No.\n",
    "        lat=l*180/a_LAT\n",
    "        lats=np.deg2rad(lat)\n",
    "        we=np.sin(lats)\n",
    "        w.append(we)\n",
    "\n",
    "a2=np.ones((a_LAT,a_LON)) #lat X lon\n",
    "for r in range(0,a_LAT):\n",
    "    for c in range(0,a_LON):\n",
    "        a2[r,c]=a2[r,c]*w[r]\n"
   ]
  },
  {
   "cell_type": "code",
   "execution_count": 15,
   "metadata": {},
   "outputs": [],
   "source": [
    "tas_ann_3=opendata('PMIP3','tas_ann')\n",
    "tas_ann_4=opendata('PMIP4','tas_ann')"
   ]
  },
  {
   "cell_type": "code",
   "execution_count": 24,
   "metadata": {},
   "outputs": [],
   "source": [
    "def globalmean(data,modellist,name):\n",
    "    DATA={}\n",
    "    DDD=[]\n",
    "    MMM=[]\n",
    "    for m in modellist:\n",
    "        d=data[m]\n",
    "        ave=np.average(d,weights=a2)\n",
    "        DATA[m]=ave\n",
    "        DDD.append(ave)\n",
    "        MMM.append(m)\n",
    "    DF={'model':MMM,'val':DDD}\n",
    "    pd.DataFrame(DF).to_csv('../table/%s.csv'%name)\n",
    "    return DATA\n",
    "    "
   ]
  },
  {
   "cell_type": "code",
   "execution_count": 25,
   "metadata": {},
   "outputs": [],
   "source": [
    "tas_ave_ann3=globalmean(tas_ann_3,modellist3,'PMIP3_tas_ann_ave')\n",
    "tas_ave_ann4=globalmean(tas_ann_4,modellist4,'PMIP4_tas_ann_ave')"
   ]
  },
  {
   "cell_type": "code",
   "execution_count": 26,
   "metadata": {},
   "outputs": [
    {
     "data": {
      "text/plain": [
       "{'BCC-CSM1-1': -0.13326890290266039,\n",
       " 'CCSM4': -0.2606005215112653,\n",
       " 'CNRM-CM5': 0.18339274178321574,\n",
       " 'CSIRO-Mk3-6-0': 0.016214888625319834,\n",
       " 'CSIRO-Mk3L-1-2': -0.004867553259650462,\n",
       " 'EC-EARTH-2-2': -0.10313405929619568,\n",
       " 'FGOALS-s2': -0.16370337174329774,\n",
       " 'FGOALS-g2': -0.7277674055217528,\n",
       " 'GISS-E2-R': -0.09973370307635253,\n",
       " 'HadGEM2-CC': 0.21961635244042615,\n",
       " 'HadGEM2-ES': 0.24388206433034343,\n",
       " 'IPSL-CM5A-LR': -0.08836155249339896,\n",
       " 'MIROC-ESM': -0.2551884404720571,\n",
       " 'MPI-ESM-P': -0.23974980557889658,\n",
       " 'MRI-CGCM3': -0.0231325816968785}"
      ]
     },
     "execution_count": 26,
     "metadata": {},
     "output_type": "execute_result"
    }
   ],
   "source": [
    "tas_ave_ann3"
   ]
  },
  {
   "cell_type": "code",
   "execution_count": 27,
   "metadata": {},
   "outputs": [
    {
     "data": {
      "text/plain": [
       "{'AWI-ESM-1-1-LR': -0.44122479635382095,\n",
       " 'CESM2': -0.2046815267383937,\n",
       " 'EC-Earth3-LR': -0.04798465977777975,\n",
       " 'FGOALS-f3-L': -0.3716961873446525,\n",
       " 'FGOALS-g3': -0.21223325158976591,\n",
       " 'GISS-E2-1-G': -0.377638549911178,\n",
       " 'HadGEM3-GC31': -0.12467136575251206,\n",
       " 'INM-CM4-8': -0.2990380735347433,\n",
       " 'IPSL-CM6A-LR': -0.36245853091458163,\n",
       " 'MIROC-ES2L': -0.47383160017199466,\n",
       " 'MPI-ESM1-2-LR': -0.36163135235833777,\n",
       " 'MRI-ESM2-0': -0.17815211826036195,\n",
       " 'NESM3': -0.26592732323388396,\n",
       " 'NorESM1-F': -0.3616686449909128,\n",
       " 'NorESM2-LM': -0.21665759034275875,\n",
       " 'UofT-CCSM-4': -0.16423190561889703}"
      ]
     },
     "execution_count": 27,
     "metadata": {},
     "output_type": "execute_result"
    }
   ],
   "source": [
    "tas_ave_ann4"
   ]
  },
  {
   "cell_type": "code",
   "execution_count": null,
   "metadata": {},
   "outputs": [],
   "source": []
  },
  {
   "cell_type": "markdown",
   "metadata": {},
   "source": [
    "# 2. Summer NH high lat land"
   ]
  },
  {
   "cell_type": "code",
   "execution_count": 28,
   "metadata": {},
   "outputs": [],
   "source": [
    "#land mask\n",
    "\n",
    "from global_land_mask import globe\n",
    "lat=np.arange(-89.5, 90., 1.0)\n",
    "lon=np.arange(-179.5, 180, 1.0)\n",
    "\n",
    "# Make a grid\n",
    "lon_grid, lat_grid = np.meshgrid(lon,lat)\n",
    "\n",
    "# Get whether the points are on land.\n",
    "z = globe.is_land(lat_grid, lon_grid)\n"
   ]
  },
  {
   "cell_type": "code",
   "execution_count": 31,
   "metadata": {},
   "outputs": [],
   "source": [
    "\n",
    "recons_file='../recons/anom6k/anom6k_grid_1x1.nc'\n",
    "recons_data=xr.open_dataset(recons_file,decode_times=False)\n",
    "recons_var=recons_data['summer']\n",
    "rr=ma.masked_invalid(recons_var)\n",
    "\n",
    "def nh_high_land(p,v,name):\n",
    "    DATA={}\n",
    "    MMM=[]\n",
    "    DDD=[]\n",
    "    f='../outputs/netcdf/%s_mh_diff_%s.nc'%(p,v)\n",
    "    df=xr.open_dataset(f,decode_times=False)\n",
    "    modellist= pd.read_csv('%s_modellist.csv'%p,skipinitialspace=True,header=0)['model']\n",
    "    for m in modellist:\n",
    "        MMM.append(m)\n",
    "        dd=df[m]\n",
    "        xxx=ma.array(dd,mask=rr.mask)\n",
    "        xnan=np.ma.filled(xxx, np.nan)\n",
    "        xxnan=ma.array(xnan,mask=z)\n",
    "        xval=np.ma.filled(xxnan, np.nan)[50+90:80+90]\n",
    "        ave=np.nanmean(xval)           \n",
    "        DATA[m]=ave\n",
    "        DDD.append(ave)\n",
    "    DF={'model':MMM,'val':DDD}\n",
    "    pd.DataFrame(DF).to_csv('../table/%s.csv'%name)\n",
    "    return DATA\n",
    "\n"
   ]
  },
  {
   "cell_type": "code",
   "execution_count": 45,
   "metadata": {},
   "outputs": [
    {
     "data": {
      "text/plain": [
       "0.6148939"
      ]
     },
     "execution_count": 45,
     "metadata": {},
     "output_type": "execute_result"
    }
   ],
   "source": [
    "np.nanmean(recons_var[50+90:80+90])"
   ]
  },
  {
   "cell_type": "code",
   "execution_count": 32,
   "metadata": {},
   "outputs": [],
   "source": [
    "land3=nh_high_land('PMIP3','tas_jja','PMIP3_nh_high_land')\n",
    "land4=nh_high_land('PMIP4','tas_jja','PMIP4_nh_high_land')"
   ]
  },
  {
   "cell_type": "code",
   "execution_count": 33,
   "metadata": {},
   "outputs": [
    {
     "data": {
      "text/plain": [
       "{'BCC-CSM1-1': 1.1031884,\n",
       " 'CCSM4': 0.4300196,\n",
       " 'CNRM-CM5': 1.5163945,\n",
       " 'CSIRO-Mk3-6-0': 0.7732996,\n",
       " 'CSIRO-Mk3L-1-2': 0.7307999,\n",
       " 'EC-EARTH-2-2': 0.91118616,\n",
       " 'FGOALS-s2': 0.76303434,\n",
       " 'FGOALS-g2': 0.14829391,\n",
       " 'GISS-E2-R': 1.2148901,\n",
       " 'HadGEM2-CC': 1.9509454,\n",
       " 'HadGEM2-ES': 1.6197321,\n",
       " 'IPSL-CM5A-LR': 0.9996058,\n",
       " 'MIROC-ESM': 0.47367385,\n",
       " 'MPI-ESM-P': 0.8401698,\n",
       " 'MRI-CGCM3': 1.0535474}"
      ]
     },
     "execution_count": 33,
     "metadata": {},
     "output_type": "execute_result"
    }
   ],
   "source": [
    "land3"
   ]
  },
  {
   "cell_type": "code",
   "execution_count": 34,
   "metadata": {},
   "outputs": [
    {
     "data": {
      "text/plain": [
       "{'AWI-ESM-1-1-LR': 0.024747927,\n",
       " 'CESM2': 0.6727414,\n",
       " 'EC-Earth3-LR': 1.8434963,\n",
       " 'FGOALS-f3-L': 0.55858016,\n",
       " 'FGOALS-g3': 1.0984378,\n",
       " 'GISS-E2-1-G': 0.71126324,\n",
       " 'HadGEM3-GC31': 1.2366652,\n",
       " 'INM-CM4-8': 0.6635146,\n",
       " 'IPSL-CM6A-LR': 0.5035311,\n",
       " 'MIROC-ES2L': 0.57562155,\n",
       " 'MPI-ESM1-2-LR': 0.5852151,\n",
       " 'MRI-ESM2-0': 0.73352486,\n",
       " 'NESM3': 0.9270349,\n",
       " 'NorESM1-F': 0.4394543,\n",
       " 'NorESM2-LM': 0.5310651,\n",
       " 'UofT-CCSM-4': 1.1465952}"
      ]
     },
     "execution_count": 34,
     "metadata": {},
     "output_type": "execute_result"
    }
   ],
   "source": [
    "land4"
   ]
  },
  {
   "cell_type": "code",
   "execution_count": null,
   "metadata": {},
   "outputs": [],
   "source": []
  },
  {
   "cell_type": "code",
   "execution_count": null,
   "metadata": {},
   "outputs": [],
   "source": [
    "recons_file='../recons/bartlein/map_delta_06ka_ALL_grid_2x2.nc'\n",
    "recons_data=Dataset(recons_file)\n",
    "recons_var=recons_data['map_anm_mean'][62:75,42:60]"
   ]
  },
  {
   "cell_type": "code",
   "execution_count": null,
   "metadata": {},
   "outputs": [],
   "source": []
  },
  {
   "cell_type": "code",
   "execution_count": null,
   "metadata": {},
   "outputs": [],
   "source": []
  },
  {
   "cell_type": "markdown",
   "metadata": {},
   "source": [
    "# 3. drier Eastern N America\n",
    "2 deg \n",
    "Bartlen MAP"
   ]
  },
  {
   "cell_type": "code",
   "execution_count": 50,
   "metadata": {},
   "outputs": [],
   "source": [
    "#Drier NE America\n",
    "\n",
    "recons_file='../recons/bartlein/map_delta_06ka_ALL_grid_2x2.nc'\n",
    "recons_data=Dataset(recons_file)\n",
    "recons_var=recons_data['map_anm_mean'][62:75,42:60]\n",
    "rr=np.ma.filled(recons_var, np.nan)\n",
    "def NEAmerica(p,v,name):\n",
    "    dataset=opendata(p,v)\n",
    "    modellist= pd.read_csv('%s_modellist.csv'%p,skipinitialspace=True,header=0)['model']\n",
    "    DDD=[]\n",
    "    MMM=[]\n",
    "    DATA={}\n",
    "    for m in modellist:\n",
    "        MMM.append(m)\n",
    "        dd=dataset[m][62:75,42:60]      \n",
    "        xxx=ma.array(dd,mask=recons_var.mask)\n",
    "        xnan=np.ma.filled(xxx, np.nan)\n",
    "        ave=np.nanmean(xnan)*365           \n",
    "        DATA[m]=ave\n",
    "        DDD.append(ave)\n",
    "        DF={'model':MMM,'val':DDD}\n",
    "        pd.DataFrame(DF).to_csv('../table/%s.csv'%name)\n",
    "    return DATA"
   ]
  },
  {
   "cell_type": "code",
   "execution_count": 54,
   "metadata": {},
   "outputs": [
    {
     "data": {
      "text/plain": [
       "-92.48864"
      ]
     },
     "execution_count": 54,
     "metadata": {},
     "output_type": "execute_result"
    }
   ],
   "source": [
    "np.nanmean(rr)"
   ]
  },
  {
   "cell_type": "code",
   "execution_count": 51,
   "metadata": {},
   "outputs": [],
   "source": [
    "NEA3=NEAmerica('PMIP3','pr_ann_2deg','PMIP3_NEAmerica')\n",
    "NEA4=NEAmerica('PMIP4','pr_ann_2deg','PMIP4_NEAmerica')"
   ]
  },
  {
   "cell_type": "code",
   "execution_count": 52,
   "metadata": {},
   "outputs": [
    {
     "data": {
      "text/plain": [
       "{'BCC-CSM1-1': 1.9873127434402704,\n",
       " 'CCSM4': -5.218586232513189,\n",
       " 'CNRM-CM5': -21.362791564315557,\n",
       " 'CSIRO-Mk3-6-0': -6.193927368149161,\n",
       " 'CSIRO-Mk3L-1-2': 26.34800173342228,\n",
       " 'EC-EARTH-2-2': -4.037074190564454,\n",
       " 'FGOALS-s2': 5.053246347233653,\n",
       " 'FGOALS-g2': -21.84692921116948,\n",
       " 'GISS-E2-R': 8.349521094933152,\n",
       " 'HadGEM2-CC': -40.8254162222147,\n",
       " 'HadGEM2-ES': -36.099113784730434,\n",
       " 'IPSL-CM5A-LR': 9.527381919324398,\n",
       " 'MIROC-ESM': -25.638322792947292,\n",
       " 'MPI-ESM-P': -28.631210289895535,\n",
       " 'MRI-CGCM3': -5.386320604011416}"
      ]
     },
     "execution_count": 52,
     "metadata": {},
     "output_type": "execute_result"
    }
   ],
   "source": [
    "NEA3"
   ]
  },
  {
   "cell_type": "code",
   "execution_count": 53,
   "metadata": {},
   "outputs": [
    {
     "data": {
      "text/plain": [
       "{'AWI-ESM-1-1-LR': -57.55774326622486,\n",
       " 'CESM2': -53.90792079269886,\n",
       " 'EC-Earth3-LR': -27.857311256229877,\n",
       " 'FGOALS-f3-L': -24.170661829411983,\n",
       " 'FGOALS-g3': -92.30460733175278,\n",
       " 'GISS-E2-1-G': -14.514355659484863,\n",
       " 'HadGEM3-GC31': -9.237993778660893,\n",
       " 'INM-CM4-8': 24.34418525546789,\n",
       " 'IPSL-CM6A-LR': -23.345549888908863,\n",
       " 'MIROC-ES2L': 29.6964643150568,\n",
       " 'MPI-ESM1-2-LR': -26.369031332433224,\n",
       " 'MRI-ESM2-0': -22.18207161873579,\n",
       " 'NESM3': 59.05425772070885,\n",
       " 'NorESM1-F': -6.2927233800292015,\n",
       " 'NorESM2-LM': 137.02975913882256,\n",
       " 'UofT-CCSM-4': -7.5569012854248285}"
      ]
     },
     "execution_count": 53,
     "metadata": {},
     "output_type": "execute_result"
    }
   ],
   "source": [
    "NEA4"
   ]
  },
  {
   "cell_type": "code",
   "execution_count": null,
   "metadata": {},
   "outputs": [],
   "source": []
  },
  {
   "cell_type": "markdown",
   "metadata": {},
   "source": [
    "# 4. Drier Midcontinental Eurasia\n",
    "Bartlein MAP"
   ]
  },
  {
   "cell_type": "code",
   "execution_count": 55,
   "metadata": {},
   "outputs": [],
   "source": [
    "#Drier  Midcontinental Eurasia\n",
    "\n",
    "recons_file='../recons/bartlein/map_delta_06ka_ALL_grid_2x2.nc'\n",
    "recons_data=Dataset(recons_file)\n",
    "recons_var=recons_data['map_anm_mean'][65:75,105:150]\n",
    "rr=np.ma.filled(recons_var, np.nan)\n",
    "def MCEruasia(p,v,name):\n",
    "    dataset=opendata(p,v)\n",
    "    modellist= pd.read_csv('%s_modellist.csv'%p,skipinitialspace=True,header=0)['model']\n",
    "    DDD=[]\n",
    "    MMM=[]\n",
    "    DATA={}\n",
    "    for m in modellist:\n",
    "        MMM.append(m)\n",
    "        dd=dataset[m][65:75,105:150]    \n",
    "        xxx=ma.array(dd,mask=recons_var.mask)\n",
    "        xnan=np.ma.filled(xxx, np.nan)\n",
    "        ave=np.nanmean(xnan)*365           \n",
    "        DATA[m]=ave\n",
    "        DDD.append(ave)\n",
    "        DF={'model':MMM,'val':DDD}\n",
    "        pd.DataFrame(DF).to_csv('../table/%s.csv'%name)\n",
    "    return DATA"
   ]
  },
  {
   "cell_type": "code",
   "execution_count": 56,
   "metadata": {},
   "outputs": [
    {
     "data": {
      "text/plain": [
       "121.09201"
      ]
     },
     "execution_count": 56,
     "metadata": {},
     "output_type": "execute_result"
    }
   ],
   "source": [
    "np.nanmean(rr)"
   ]
  },
  {
   "cell_type": "code",
   "execution_count": 57,
   "metadata": {},
   "outputs": [],
   "source": [
    "MCE3=MCEruasia('PMIP3','pr_ann_2deg','PMIP3_MCEruasia')\n",
    "MCE4=MCEruasia('PMIP4','pr_ann_2deg','PMIP4_MCEruasia')"
   ]
  },
  {
   "cell_type": "code",
   "execution_count": 58,
   "metadata": {},
   "outputs": [
    {
     "data": {
      "text/plain": [
       "{'BCC-CSM1-1': -0.8574652939569205,\n",
       " 'CCSM4': -7.143283365294337,\n",
       " 'CNRM-CM5': 6.002737637609243,\n",
       " 'CSIRO-Mk3-6-0': -10.79356542788446,\n",
       " 'CSIRO-Mk3L-1-2': 5.562640656717122,\n",
       " 'EC-EARTH-2-2': -17.0227506197989,\n",
       " 'FGOALS-s2': 4.045207761228085,\n",
       " 'FGOALS-g2': -20.42145662009716,\n",
       " 'GISS-E2-R': 7.95167469419539,\n",
       " 'HadGEM2-CC': 4.101573368534446,\n",
       " 'HadGEM2-ES': 8.437197906896472,\n",
       " 'IPSL-CM5A-LR': -3.543282113969326,\n",
       " 'MIROC-ESM': -47.06812597811222,\n",
       " 'MPI-ESM-P': 0.1748163921001833,\n",
       " 'MRI-CGCM3': 4.010068573988974}"
      ]
     },
     "execution_count": 58,
     "metadata": {},
     "output_type": "execute_result"
    }
   ],
   "source": [
    "MCE3"
   ]
  },
  {
   "cell_type": "code",
   "execution_count": 59,
   "metadata": {},
   "outputs": [
    {
     "data": {
      "text/plain": [
       "{'AWI-ESM-1-1-LR': -21.230971086770296,\n",
       " 'CESM2': -15.849437415599823,\n",
       " 'EC-Earth3-LR': 11.656901445239782,\n",
       " 'FGOALS-f3-L': -10.578210558742285,\n",
       " 'FGOALS-g3': -57.74837754666805,\n",
       " 'GISS-E2-1-G': -8.755758395418525,\n",
       " 'HadGEM3-GC31': 1.7928084987215698,\n",
       " 'INM-CM4-8': -2.345024305395782,\n",
       " 'IPSL-CM6A-LR': -31.67926751077175,\n",
       " 'MIROC-ES2L': -25.779003277420998,\n",
       " 'MPI-ESM1-2-LR': -17.9436107352376,\n",
       " 'MRI-ESM2-0': -14.829641915857792,\n",
       " 'NESM3': 24.261445626616478,\n",
       " 'NorESM1-F': -7.902176408097148,\n",
       " 'NorESM2-LM': 136.8730528652668,\n",
       " 'UofT-CCSM-4': -3.2277242513373494}"
      ]
     },
     "execution_count": 59,
     "metadata": {},
     "output_type": "execute_result"
    }
   ],
   "source": [
    "MCE4"
   ]
  },
  {
   "cell_type": "code",
   "execution_count": null,
   "metadata": {},
   "outputs": [],
   "source": []
  },
  {
   "cell_type": "markdown",
   "metadata": {},
   "source": [
    "# Midcontinental Eurasia seasonality （作废）"
   ]
  },
  {
   "cell_type": "code",
   "execution_count": 61,
   "metadata": {},
   "outputs": [],
   "source": [
    "def MCEruasia_sm(p,v,name):\n",
    "    dataset=opendata(p,v)\n",
    "    modellist= pd.read_csv('%s_modellist.csv'%p,skipinitialspace=True,header=0)['model']\n",
    "    DDD=[]\n",
    "    MMM=[]\n",
    "    DATA={}\n",
    "    for m in modellist:\n",
    "        MMM.append(m)\n",
    "        dd=dataset[m][65:75,105:150]    \n",
    "        ave=np.average(dd)           \n",
    "        DATA[m]=ave\n",
    "        DDD.append(ave)\n",
    "        DF={'model':MMM,'val':DDD}\n",
    "        pd.DataFrame(DF).to_csv('../table/%s.csv'%name)\n",
    "    return DATA"
   ]
  },
  {
   "cell_type": "code",
   "execution_count": 69,
   "metadata": {},
   "outputs": [],
   "source": [
    "MCEsm3jja=MCEruasia_sm('PMIP3','tas_jja_2deg','PMIP3_MCEruasia_tas_jja')\n",
    "MCEsm4jja=MCEruasia_sm('PMIP4','tas_jja_2deg','PMIP4_MCEruasia_tas_jja')\n",
    "MCEsm3djf=MCEruasia_sm('PMIP3','tas_djf_2deg','PMIP3_MCEruasia_tas_djf')\n",
    "MCEsm4djf=MCEruasia_sm('PMIP4','tas_djf_2deg','PMIP4_MCEruasia_tas_djf')"
   ]
  },
  {
   "cell_type": "code",
   "execution_count": 72,
   "metadata": {},
   "outputs": [
    {
     "data": {
      "text/plain": [
       "{'BCC-CSM1-1': -0.38858375,\n",
       " 'CCSM4': -0.9555341,\n",
       " 'CNRM-CM5': 0.2233746,\n",
       " 'CSIRO-Mk3-6-0': -0.31317532,\n",
       " 'CSIRO-Mk3L-1-2': -0.27179268,\n",
       " 'EC-EARTH-2-2': -0.008453505,\n",
       " 'FGOALS-s2': -0.64101696,\n",
       " 'FGOALS-g2': -1.2995586,\n",
       " 'GISS-E2-R': 0.08178662,\n",
       " 'HadGEM2-CC': 0.051318765,\n",
       " 'HadGEM2-ES': 0.33763167,\n",
       " 'IPSL-CM5A-LR': -0.15882786,\n",
       " 'MIROC-ESM': -0.86890286,\n",
       " 'MPI-ESM-P': -0.43431774,\n",
       " 'MRI-CGCM3': -0.6983314}"
      ]
     },
     "execution_count": 72,
     "metadata": {},
     "output_type": "execute_result"
    }
   ],
   "source": [
    "\n",
    "MCEsm3djf"
   ]
  },
  {
   "cell_type": "code",
   "execution_count": 73,
   "metadata": {},
   "outputs": [],
   "source": [
    "MCEsm3={}\n",
    "for m in modellist3:\n",
    "    x=MCEsm3jja[m]-MCEsm3djf[m]\n",
    "    MCEsm3[m]=x\n",
    "MCEsm4={}\n",
    "for m in modellist4:\n",
    "    x=MCEsm4jja[m]-MCEsm4djf[m]\n",
    "    MCEsm4[m]=x"
   ]
  },
  {
   "cell_type": "code",
   "execution_count": 74,
   "metadata": {},
   "outputs": [
    {
     "data": {
      "text/plain": [
       "{'BCC-CSM1-1': 2.530422,\n",
       " 'CCSM4': 2.7199078,\n",
       " 'CNRM-CM5': 1.6127316,\n",
       " 'CSIRO-Mk3-6-0': 2.4695578,\n",
       " 'CSIRO-Mk3L-1-2': 2.328323,\n",
       " 'EC-EARTH-2-2': 2.00119,\n",
       " 'FGOALS-s2': 2.612465,\n",
       " 'FGOALS-g2': 2.7385125,\n",
       " 'GISS-E2-R': 0.8997601,\n",
       " 'HadGEM2-CC': 2.3013978,\n",
       " 'HadGEM2-ES': 2.1725073,\n",
       " 'IPSL-CM5A-LR': 2.1658838,\n",
       " 'MIROC-ESM': 3.1357665,\n",
       " 'MPI-ESM-P': 2.316335,\n",
       " 'MRI-CGCM3': 2.571431}"
      ]
     },
     "execution_count": 74,
     "metadata": {},
     "output_type": "execute_result"
    }
   ],
   "source": [
    "MCEsm3"
   ]
  },
  {
   "cell_type": "code",
   "execution_count": 75,
   "metadata": {},
   "outputs": [
    {
     "data": {
      "text/plain": [
       "{'AWI-ESM-1-1-LR': 2.117224,\n",
       " 'CESM2': 2.6647656,\n",
       " 'EC-Earth3-LR': 2.013226,\n",
       " 'FGOALS-f3-L': 2.7744582,\n",
       " 'FGOALS-g3': 3.7646565,\n",
       " 'GISS-E2-1-G': 2.0529094,\n",
       " 'HadGEM3-GC31': 2.2079592,\n",
       " 'INM-CM4-8': 2.5013638,\n",
       " 'IPSL-CM6A-LR': 3.0790014,\n",
       " 'MIROC-ES2L': 2.6716595,\n",
       " 'MPI-ESM1-2-LR': 2.6953874,\n",
       " 'MRI-ESM2-0': 2.1844044,\n",
       " 'NESM3': 1.6622193,\n",
       " 'NorESM1-F': 3.283526,\n",
       " 'NorESM2-LM': 2.5767386,\n",
       " 'UofT-CCSM-4': 2.7589033}"
      ]
     },
     "execution_count": 75,
     "metadata": {},
     "output_type": "execute_result"
    }
   ],
   "source": [
    "MCEsm4"
   ]
  },
  {
   "cell_type": "code",
   "execution_count": null,
   "metadata": {},
   "outputs": [],
   "source": []
  },
  {
   "cell_type": "code",
   "execution_count": null,
   "metadata": {},
   "outputs": [],
   "source": []
  },
  {
   "cell_type": "code",
   "execution_count": 6,
   "metadata": {},
   "outputs": [],
   "source": [
    "# drier S. america [90:120,165:210]\n",
    "#Drier Eastern North America\n",
    "#Wetter Indo-Gangetic plain\n",
    "#Drier Midcontinental Eurasia"
   ]
  },
  {
   "cell_type": "markdown",
   "metadata": {},
   "source": [
    "# 5. NAF expansion"
   ]
  },
  {
   "cell_type": "code",
   "execution_count": 4,
   "metadata": {},
   "outputs": [],
   "source": [
    "#Expansion of NAF\n",
    "def NAFexpansion(p,expt):\n",
    "    lat=np.arange(-89.5,90,1)\n",
    "    LL=lat[90:120]\n",
    "    data_file='../outputs/netcdf/%s_%s_monsoon.nc'%(p,expt)\n",
    "    dataset=Dataset(data_file)\n",
    "    model= pd.read_csv('%s_modellist.csv'%p,skipinitialspace=True,header=0)['model']\n",
    "    data={}\n",
    "    data['lat']=LL\n",
    "    for m in model:\n",
    "        dd=dataset[m][90:120,160:210]      \n",
    "        ave=np.average(dd,axis=1)\n",
    "        data[m]=ave\n",
    "    ddd=pd.DataFrame(data)\n",
    "    ddd.to_csv('../table/%s_%s_mb.csv'%(p,expt))"
   ]
  },
  {
   "cell_type": "code",
   "execution_count": 5,
   "metadata": {},
   "outputs": [],
   "source": [
    "NAFexpansion('PMIP4','piControl')"
   ]
  },
  {
   "cell_type": "code",
   "execution_count": 6,
   "metadata": {},
   "outputs": [],
   "source": [
    "NAFexpansion('PMIP3','piControl')"
   ]
  },
  {
   "cell_type": "code",
   "execution_count": 7,
   "metadata": {},
   "outputs": [],
   "source": [
    "NAFexpansion('PMIP4','midHolocene')"
   ]
  },
  {
   "cell_type": "code",
   "execution_count": 8,
   "metadata": {},
   "outputs": [],
   "source": [
    "NAFexpansion('PMIP3','midHolocene')"
   ]
  },
  {
   "cell_type": "code",
   "execution_count": 13,
   "metadata": {},
   "outputs": [],
   "source": [
    "def NAFexpansion_diff(p):\n",
    "    modellist=pd.read_csv('%s_modellist.csv'%p,skipinitialspace=True,header=0)['model']\n",
    "    mh=pd.read_csv('../table/%s_midHolocene_mb.csv'%p,skipinitialspace=True,header=0)\n",
    "    pi=pd.read_csv('../table/%s_picontrol_mb.csv'%p,skipinitialspace=True,header=0)\n",
    "    ymh=mh['lat']\n",
    "    ypi=pi['lat']\n",
    "    LAT={}\n",
    "    MMM=[]\n",
    "    MH=[]\n",
    "    PI=[]\n",
    "    D=[]\n",
    "    for m in modellist:\n",
    "        xpi=pi[m]\n",
    "        xmh=mh[m]\n",
    "        fpi= interp1d(xpi, ypi, kind='cubic')\n",
    "        fmh= interp1d(xmh, ymh, kind='cubic')\n",
    "        x2=[2]\n",
    "        lpi=fpi(x2)\n",
    "        lmh=fmh(x2)\n",
    "        l=lmh-lpi\n",
    "        ll=[lmh[0],lpi[0],l[0]]\n",
    "        LAT[m]=ll\n",
    "        MMM.append(m)\n",
    "        MH.append(lmh[0])\n",
    "        PI.append(lpi[0])\n",
    "        D.append(l[0])\n",
    "    DF=pd.DataFrame({'model':MMM,'mh':MH,'pi':PI,'d':D})\n",
    "    DF.to_csv('../table/%s_NAF_Expansion.csv'%p)\n",
    "    return LAT"
   ]
  },
  {
   "cell_type": "code",
   "execution_count": 14,
   "metadata": {},
   "outputs": [
    {
     "data": {
      "text/plain": [
       "{'BCC-CSM1-1': [14.843422145293964, 13.932262436569925, 0.9111597087240391],\n",
       " 'CCSM4': [16.58457325217075, 15.072580679813168, 1.511992572357581],\n",
       " 'CNRM-CM5': [16.860233771574205, 15.53536115975846, 1.324872611815744],\n",
       " 'CSIRO-Mk3-6-0': [25.02727374746701, 21.90111982520231, 3.126153922264699],\n",
       " 'CSIRO-Mk3L-1-2': [24.247200198158986, 6.508215175403222, 17.738985022755763],\n",
       " 'EC-EARTH-2-2': [17.130287110066707, 13.741972922493172, 3.3883141875735348],\n",
       " 'FGOALS-s2': [14.88125855897002, 12.838137850415418, 2.0431207085546017],\n",
       " 'FGOALS-g2': [17.461269355183035, 14.628214841084795, 2.83305451409824],\n",
       " 'GISS-E2-R': [15.108926943218993, 14.544388437916142, 0.5645385053028509],\n",
       " 'HadGEM2-CC': [14.168690661628375, 11.283666237972966, 2.885024423655409],\n",
       " 'HadGEM2-ES': [14.992806601468134, 11.829868989371732, 3.1629376120964015],\n",
       " 'IPSL-CM5A-LR': [13.99852737385165, 12.367943389891241, 1.630583983960408],\n",
       " 'MIROC-ESM': [17.50555932285992, 15.375772514899001, 2.129786807960919],\n",
       " 'MPI-ESM-P': [16.4250206310664, 14.523646952251104, 1.901373678815295],\n",
       " 'MRI-CGCM3': [13.363177010134963, 13.506095855602975, -0.14291884546801192]}"
      ]
     },
     "execution_count": 14,
     "metadata": {},
     "output_type": "execute_result"
    }
   ],
   "source": [
    "LAT3=NAFexpansion_diff('PMIP3')\n",
    "LAT3"
   ]
  },
  {
   "cell_type": "code",
   "execution_count": 15,
   "metadata": {},
   "outputs": [
    {
     "data": {
      "text/plain": [
       "{'AWI-ESM-1-1-LR': [18.57681519236091, 15.430750998787849, 3.1460641935730624],\n",
       " 'CESM2': [13.816766323796411, 14.028482354792716, -0.2117160309963051],\n",
       " 'EC-Earth3-LR': [13.824709840148037, 14.28884486496671, -0.46413502481867397],\n",
       " 'FGOALS-f3-L': [13.324341970583177, 11.803240732781521, 1.5211012378016555],\n",
       " 'FGOALS-g3': [13.615282680688901, 11.858898258376707, 1.7563844223121947],\n",
       " 'GISS-E2-1-G': [15.520469762963254, 13.899386020972925, 1.6210837419903292],\n",
       " 'HadGEM3-GC31': [14.668083362473066, 12.361380776598423, 2.3067025858746426],\n",
       " 'INM-CM4-8': [16.03490174917936, 12.890544387811506, 3.144357361367856],\n",
       " 'IPSL-CM6A-LR': [13.797704625734871, 12.85567609599026, 0.9420285297446114],\n",
       " 'MIROC-ES2L': [15.215733798310136, 13.93224862567078, 1.283485172639356],\n",
       " 'MPI-ESM1-2-LR': [16.67707326333741, 12.989161769142264, 3.687911494195145],\n",
       " 'MRI-ESM2-0': [15.690945999518252, 12.400119478052792, 3.29082652146546],\n",
       " 'NESM3': [17.88029622785402, 14.800243557040943, 3.080052670813078],\n",
       " 'NorESM1-F': [16.510637738545817, 15.112508078564376, 1.398129659981441],\n",
       " 'NorESM2-LM': [14.42158022537201, 16.2811257580076, -1.8595455326355914],\n",
       " 'UofT-CCSM-4': [16.36515277220806, 14.502109876896832, 1.863042895311228]}"
      ]
     },
     "execution_count": 15,
     "metadata": {},
     "output_type": "execute_result"
    }
   ],
   "source": [
    "LAT4=NAFexpansion_diff('PMIP4')\n",
    "LAT4"
   ]
  },
  {
   "cell_type": "code",
   "execution_count": 11,
   "metadata": {},
   "outputs": [
    {
     "data": {
      "text/plain": [
       "{'BCC-CSM1-1': [14.843422145293964, 13.932262436569925, 0.9111597087240391],\n",
       " 'CCSM4': [16.58457325217075, 15.072580679813168, 1.511992572357581],\n",
       " 'CNRM-CM5': [16.860233771574205, 15.53536115975846, 1.324872611815744],\n",
       " 'CSIRO-Mk3-6-0': [25.02727374746701, 21.90111982520231, 3.126153922264699],\n",
       " 'CSIRO-Mk3L-1-2': [24.247200198158986, 6.508215175403222, 17.738985022755763],\n",
       " 'EC-EARTH-2-2': [17.130287110066707, 13.741972922493172, 3.3883141875735348],\n",
       " 'FGOALS-s2': [14.88125855897002, 12.838137850415418, 2.0431207085546017],\n",
       " 'FGOALS-g2': [17.461269355183035, 14.628214841084795, 2.83305451409824],\n",
       " 'GISS-E2-R': [15.108926943218993, 14.544388437916142, 0.5645385053028509],\n",
       " 'HadGEM2-CC': [14.168690661628375, 11.283666237972966, 2.885024423655409],\n",
       " 'HadGEM2-ES': [14.992806601468134, 11.829868989371732, 3.1629376120964015],\n",
       " 'IPSL-CM5A-LR': [13.99852737385165, 12.367943389891241, 1.630583983960408],\n",
       " 'MIROC-ESM': [17.50555932285992, 15.375772514899001, 2.129786807960919],\n",
       " 'MPI-ESM-P': [16.4250206310664, 14.523646952251104, 1.901373678815295],\n",
       " 'MRI-CGCM3': [13.363177010134963, 13.506095855602975, -0.14291884546801192]}"
      ]
     },
     "execution_count": 11,
     "metadata": {},
     "output_type": "execute_result"
    }
   ],
   "source": [
    "LAT3=NAFexpansion_diff('PMIP3')\n",
    "LAT3"
   ]
  },
  {
   "cell_type": "code",
   "execution_count": 12,
   "metadata": {},
   "outputs": [
    {
     "data": {
      "text/plain": [
       "{'AWI-ESM-1-1-LR': [18.57681519236091, 15.430750998787849, 3.1460641935730624],\n",
       " 'CESM2': [13.816766323796411, 14.028482354792716, -0.2117160309963051],\n",
       " 'EC-Earth3-LR': [13.824709840148037, 14.28884486496671, -0.46413502481867397],\n",
       " 'FGOALS-f3-L': [13.324341970583177, 11.803240732781521, 1.5211012378016555],\n",
       " 'FGOALS-g3': [13.615282680688901, 11.858898258376707, 1.7563844223121947],\n",
       " 'GISS-E2-1-G': [15.520469762963254, 13.899386020972925, 1.6210837419903292],\n",
       " 'HadGEM3-GC31': [14.668083362473066, 12.361380776598423, 2.3067025858746426],\n",
       " 'INM-CM4-8': [16.03490174917936, 12.890544387811506, 3.144357361367856],\n",
       " 'IPSL-CM6A-LR': [13.797704625734871, 12.85567609599026, 0.9420285297446114],\n",
       " 'MIROC-ES2L': [15.215733798310136, 13.93224862567078, 1.283485172639356],\n",
       " 'MPI-ESM1-2-LR': [16.67707326333741, 12.989161769142264, 3.687911494195145],\n",
       " 'MRI-ESM2-0': [15.690945999518252, 12.400119478052792, 3.29082652146546],\n",
       " 'NESM3': [17.88029622785402, 14.800243557040943, 3.080052670813078],\n",
       " 'NorESM1-F': [16.510637738545817, 15.112508078564376, 1.398129659981441],\n",
       " 'NorESM2-LM': [14.42158022537201, 16.2811257580076, -1.8595455326355914],\n",
       " 'UofT-CCSM-4': [16.36515277220806, 14.502109876896832, 1.863042895311228]}"
      ]
     },
     "execution_count": 12,
     "metadata": {},
     "output_type": "execute_result"
    }
   ],
   "source": [
    "LAT4=NAFexpansion_diff('PMIP4')\n",
    "LAT4"
   ]
  },
  {
   "cell_type": "code",
   "execution_count": null,
   "metadata": {},
   "outputs": [],
   "source": []
  },
  {
   "cell_type": "code",
   "execution_count": null,
   "metadata": {},
   "outputs": [],
   "source": []
  },
  {
   "cell_type": "code",
   "execution_count": null,
   "metadata": {},
   "outputs": [],
   "source": []
  },
  {
   "cell_type": "code",
   "execution_count": null,
   "metadata": {},
   "outputs": [],
   "source": []
  },
  {
   "cell_type": "markdown",
   "metadata": {},
   "source": [
    "# Drier S America\n"
   ]
  },
  {
   "cell_type": "code",
   "execution_count": 16,
   "metadata": {},
   "outputs": [],
   "source": [
    "def drySA(p,v,name):\n",
    "    dataset=opendata(p,v)\n",
    "    modellist= pd.read_csv('%s_modellist.csv'%p,skipinitialspace=True,header=0)['model']\n",
    "    DDD=[]\n",
    "    MMM=[]\n",
    "    DATA={}\n",
    "    for m in modellist:\n",
    "        MMM.append(m)\n",
    "        dd=dataset[m][70:90,115:135]   \n",
    "        ave=np.average(dd)*365           \n",
    "        DATA[m]=ave\n",
    "        DDD.append(ave)\n",
    "        DF={'model':MMM,'val':DDD}\n",
    "        pd.DataFrame(DF).to_csv('../table/%s.csv'%name)\n",
    "    return DATA"
   ]
  },
  {
   "cell_type": "code",
   "execution_count": 17,
   "metadata": {},
   "outputs": [
    {
     "data": {
      "text/plain": [
       "{'BCC-CSM1-1': -33.45331393182278,\n",
       " 'CCSM4': -2.6021883520297706,\n",
       " 'CNRM-CM5': -97.91832730174065,\n",
       " 'CSIRO-Mk3-6-0': -43.38334482163191,\n",
       " 'CSIRO-Mk3L-1-2': -88.46883349120617,\n",
       " 'EC-EARTH-2-2': -91.0818175971508,\n",
       " 'FGOALS-s2': -90.45280061662197,\n",
       " 'FGOALS-g2': -47.90670469403267,\n",
       " 'GISS-E2-R': -132.18590795993805,\n",
       " 'HadGEM2-CC': -160.62222257256508,\n",
       " 'HadGEM2-ES': -121.77634075284004,\n",
       " 'IPSL-CM5A-LR': -60.312976986169815,\n",
       " 'MIROC-ESM': -46.9093257188797,\n",
       " 'MPI-ESM-P': -68.98907214403152,\n",
       " 'MRI-CGCM3': -157.67224818468094}"
      ]
     },
     "execution_count": 17,
     "metadata": {},
     "output_type": "execute_result"
    }
   ],
   "source": [
    "data3=drySA('PMIP3','pr_ann','PMIP3_drySA')\n",
    "data3"
   ]
  },
  {
   "cell_type": "code",
   "execution_count": 18,
   "metadata": {},
   "outputs": [
    {
     "data": {
      "text/plain": [
       "{'AWI-ESM-1-1-LR': 68.17800350487232,\n",
       " 'CESM2': -97.40261942148209,\n",
       " 'EC-Earth3-LR': -28.502413854002953,\n",
       " 'FGOALS-f3-L': -85.47132290899754,\n",
       " 'FGOALS-g3': -258.06723296642303,\n",
       " 'GISS-E2-1-G': -60.06460852921009,\n",
       " 'HadGEM3-GC31': -102.20898553729057,\n",
       " 'INM-CM4-8': -95.70408701896667,\n",
       " 'IPSL-CM6A-LR': -72.26196087896824,\n",
       " 'MIROC-ES2L': -110.55742904543877,\n",
       " 'MPI-ESM1-2-LR': -95.70342347025871,\n",
       " 'MRI-ESM2-0': -178.92640948295593,\n",
       " 'NESM3': -154.81887996196747,\n",
       " 'NorESM1-F': -115.99186033010483,\n",
       " 'NorESM2-LM': -84.90792654454708,\n",
       " 'UofT-CCSM-4': -117.28414863348007}"
      ]
     },
     "execution_count": 18,
     "metadata": {},
     "output_type": "execute_result"
    }
   ],
   "source": [
    "data4=drySA('PMIP4','pr_ann','PMIP4_drySA')\n",
    "data4"
   ]
  },
  {
   "cell_type": "markdown",
   "metadata": {},
   "source": [
    "# wetter IG plain"
   ]
  },
  {
   "cell_type": "code",
   "execution_count": 19,
   "metadata": {},
   "outputs": [],
   "source": [
    "def wetIG(p,v,name):\n",
    "    dataset=opendata(p,v)\n",
    "    modellist= pd.read_csv('%s_modellist.csv'%p,skipinitialspace=True,header=0)['model']\n",
    "    DDD=[]\n",
    "    MMM=[]\n",
    "    DATA={}\n",
    "    for m in modellist:\n",
    "        MMM.append(m)\n",
    "        dd=dataset[m][115:120,250:265]   \n",
    "        ave=np.average(dd)*365           \n",
    "        DATA[m]=ave\n",
    "        DDD.append(ave)\n",
    "        DF={'model':MMM,'val':DDD}\n",
    "        pd.DataFrame(DF).to_csv('../table/%s.csv'%name)\n",
    "    return DATA"
   ]
  },
  {
   "cell_type": "code",
   "execution_count": 20,
   "metadata": {},
   "outputs": [
    {
     "data": {
      "text/plain": [
       "{'BCC-CSM1-1': 170.81514656543732,\n",
       " 'CCSM4': 121.84335917234421,\n",
       " 'CNRM-CM5': 183.1401613354683,\n",
       " 'CSIRO-Mk3-6-0': 126.63256004452705,\n",
       " 'CSIRO-Mk3L-1-2': 35.883868373930454,\n",
       " 'EC-EARTH-2-2': 140.73005482554436,\n",
       " 'FGOALS-s2': 197.18241840600967,\n",
       " 'FGOALS-g2': 159.9657879769802,\n",
       " 'GISS-E2-R': 42.85539120435715,\n",
       " 'HadGEM2-CC': 258.68459433317184,\n",
       " 'HadGEM2-ES': 278.64305168390274,\n",
       " 'IPSL-CM5A-LR': 254.59049880504608,\n",
       " 'MIROC-ESM': 198.10649156570435,\n",
       " 'MPI-ESM-P': 323.23037028312683,\n",
       " 'MRI-CGCM3': 130.6373593211174}"
      ]
     },
     "execution_count": 20,
     "metadata": {},
     "output_type": "execute_result"
    }
   ],
   "source": [
    "data3=wetIG('PMIP3','pr_ann','PMIP3_wetIG')\n",
    "data3"
   ]
  },
  {
   "cell_type": "code",
   "execution_count": 22,
   "metadata": {},
   "outputs": [
    {
     "data": {
      "text/plain": [
       "{'AWI-ESM-1-1-LR': 115.20402133464813,\n",
       " 'CESM2': 124.67637494206429,\n",
       " 'EC-Earth3-LR': 165.59567242860794,\n",
       " 'FGOALS-f3-L': 165.32145276665688,\n",
       " 'FGOALS-g3': 56.988853588700294,\n",
       " 'GISS-E2-1-G': 187.7948358654976,\n",
       " 'HadGEM3-GC31': 206.75374954938889,\n",
       " 'INM-CM4-8': 211.99106335639954,\n",
       " 'IPSL-CM6A-LR': 160.3660275042057,\n",
       " 'MIROC-ES2L': 77.13481783866882,\n",
       " 'MPI-ESM1-2-LR': 225.4555544257164,\n",
       " 'MRI-ESM2-0': 188.9409041404724,\n",
       " 'NESM3': 177.24676102399826,\n",
       " 'NorESM1-F': 158.30109655857086,\n",
       " 'NorESM2-LM': 255.05245923995972,\n",
       " 'UofT-CCSM-4': 114.01608422398567}"
      ]
     },
     "execution_count": 22,
     "metadata": {},
     "output_type": "execute_result"
    }
   ],
   "source": [
    "data4=wetIG('PMIP4','pr_ann','PMIP4_wetIG')\n",
    "data4"
   ]
  },
  {
   "cell_type": "code",
   "execution_count": null,
   "metadata": {},
   "outputs": [],
   "source": []
  },
  {
   "cell_type": "code",
   "execution_count": 76,
   "metadata": {},
   "outputs": [],
   "source": [
    "data_file='plotting_data/PMIP3_mh_pr_ann_1deg.nc'\n",
    "dataset=Dataset(data_file)\n",
    "modellist=pd.read_csv('model_lists/PMIP3.csv',skipinitialspace=True,header=0)\n",
    "model=modellist['0']\n",
    "data={}\n",
    "for m in model:\n",
    "    dd=dataset[m][115:120,250:265]      \n",
    "    ave=np.average(dd)\n",
    "    data[m]=ave*365\n",
    "#ddd=pd.DataFrame(data)\n",
    "#ddd.to_csv('table/4_pmip3.csv')"
   ]
  },
  {
   "cell_type": "code",
   "execution_count": 77,
   "metadata": {},
   "outputs": [
    {
     "data": {
      "text/plain": [
       "{'BCC-CSM1-1': 154.89302337169647,\n",
       " 'CCSM4': 121.3353419303894,\n",
       " 'CNRM-CM5': 180.32914057374,\n",
       " 'CSIRO-Mk3-6-0': 113.08492958545685,\n",
       " 'CSIRO-Mk3L-1-2': 31.522011905908585,\n",
       " 'EC-EARTH-2-2': 139.84038829803467,\n",
       " 'FGOALS-g2': 152.8909881412983,\n",
       " 'FGOALS-s2': 178.68450790643692,\n",
       " 'GISS-E2-R': 39.798125885427,\n",
       " 'HadGEM2-CC': 251.04908496141434,\n",
       " 'HadGEM2-ES': 268.2514438033104,\n",
       " 'IPSL-CM5A-LR': 241.55644416809082,\n",
       " 'MIROC-ESM': 197.7728897333145,\n",
       " 'MPI-ESM-P': 301.40610098838806,\n",
       " 'MRI-CGCM3': 115.78844457864761}"
      ]
     },
     "execution_count": 77,
     "metadata": {},
     "output_type": "execute_result"
    }
   ],
   "source": [
    "data"
   ]
  },
  {
   "cell_type": "code",
   "execution_count": 78,
   "metadata": {},
   "outputs": [
    {
     "data": {
      "text/plain": [
       "{'AWI-ESM-1-1-LR': 81.84158653020859,\n",
       " 'CESM2': 105.74291670322418,\n",
       " 'FGOALS-f3-L': 169.52815413475037,\n",
       " 'FGOALS-g3': 42.376142621040344,\n",
       " 'GISS-E2-1-G': 170.13513481616974,\n",
       " 'HadGEM3-GC31': 192.5321068763733,\n",
       " 'INM-CM4-8': 211.4102659225464,\n",
       " 'IPSL-CM6A-LR': 157.84457063674927,\n",
       " 'MIROC-ES2L': 70.0242303609848,\n",
       " 'MRI-ESM2-0': 176.319833278656,\n",
       " 'NESM3': 168.69745421409607,\n",
       " 'NorESM1-F': 149.10151255130768,\n",
       " 'UofT-CCSM-4': 27.43405309319496}"
      ]
     },
     "execution_count": 78,
     "metadata": {},
     "output_type": "execute_result"
    }
   ],
   "source": [
    "data_file='plotting_data/PMIP4_mh_pr_ann_1deg.nc'\n",
    "dataset=Dataset(data_file)\n",
    "modellist=pd.read_csv('model_lists/PMIP4.csv',skipinitialspace=True,header=0)\n",
    "model=modellist['0']\n",
    "data={}\n",
    "for m in model:\n",
    "    dd=dataset[m][115:120,250:265]      \n",
    "    ave=np.average(dd)*364\n",
    "    data[m]=ave\n",
    "#ddd=pd.DataFrame(data)\n",
    "#ddd.to_csv('table/4_pmip3.csv')\n",
    "data"
   ]
  },
  {
   "cell_type": "code",
   "execution_count": 12,
   "metadata": {},
   "outputs": [
    {
     "data": {
      "text/plain": [
       "{'BCC-CSM1-1': 1.160135470707339,\n",
       " 'CCSM4': -5.242708345748166,\n",
       " 'CNRM-CM5': -22.47251527566973,\n",
       " 'CSIRO-Mk3-6-0': -7.920183013472935,\n",
       " 'CSIRO-Mk3L-1-2': 5.075729761727064,\n",
       " 'EC-EARTH-2-2': -5.716936057388991,\n",
       " 'FGOALS-g2': -1.3690240144073398,\n",
       " 'FGOALS-s2': 4.691645170541742,\n",
       " 'GISS-E2-R': 5.895511133830276,\n",
       " 'HadGEM2-CC': -42.99106358943578,\n",
       " 'HadGEM2-ES': -38.49940733552753,\n",
       " 'IPSL-CM5A-LR': 9.903992585536239,\n",
       " 'MIROC-ESM': -24.85414705462385,\n",
       " 'MPI-ESM-P': -30.675958963981657,\n",
       " 'MRI-CGCM3': -5.8535342235743135}"
      ]
     },
     "execution_count": 12,
     "metadata": {},
     "output_type": "execute_result"
    }
   ],
   "source": [
    "#Drier NE America\n",
    "data_file='plotting_data/PMIP3_mh_pr_ann_2deg.nc'\n",
    "dataset=Dataset(data_file)\n",
    "recons_file='mh_recons/map_delta_06ka_ALL_grid_2x2.nc'\n",
    "recons_data=Dataset(recons_file)\n",
    "recons_var=recons_data['map_anm_mean'][62:75,42:60]\n",
    "rr=np.ma.filled(recons_var, np.nan)\n",
    "\n",
    "modellist=pd.read_csv('model_lists/PMIP3.csv',skipinitialspace=True,header=0)\n",
    "model=modellist['0']\n",
    "data={}\n",
    "DATA={}\n",
    "for m in model:\n",
    "    re=[]\n",
    "    dd=dataset[m][62:75,42:60]      \n",
    "    xxx=ma.array(dd,mask=recons_var.mask)\n",
    "    xnan=np.ma.filled(xxx, np.nan)\n",
    "    for row in range(xnan.shape[0]):\n",
    "        for col in range(xnan.shape[1]):\n",
    "            val=str(xnan[row][col])\n",
    "            if val != 'nan':\n",
    "                val1=float(val)\n",
    "                re.append(val1)                  \n",
    "    data[m]=re\n",
    "    ave=np.average(re)*365\n",
    "    DATA[m]=ave\n",
    "ddd=pd.DataFrame(data)\n",
    "f='table/7_pmip3.csv'\n",
    "ddd.to_csv(f)\n",
    "DATA"
   ]
  },
  {
   "cell_type": "code",
   "execution_count": 79,
   "metadata": {},
   "outputs": [
    {
     "data": {
      "text/plain": [
       "{'AWI-ESM-1-1-LR': -44.20047667427983,\n",
       " 'CESM2': -50.67785769824771,\n",
       " 'FGOALS-f3-L': -6.134535870015138,\n",
       " 'FGOALS-g3': -33.61976341128037,\n",
       " 'GISS-E2-1-G': -14.449814689493119,\n",
       " 'HadGEM3-GC31': 16.196705685608258,\n",
       " 'INM-CM4-8': 24.344182145003952,\n",
       " 'IPSL-CM6A-LR': -12.398299740892659,\n",
       " 'MIROC-ES2L': 30.14347152013303,\n",
       " 'MRI-ESM2-0': -24.255327350609175,\n",
       " 'NESM3': 61.40574063407797,\n",
       " 'NorESM1-F': 5.8542524099541735,\n",
       " 'UofT-CCSM-4': -9.967229990376149}"
      ]
     },
     "execution_count": 79,
     "metadata": {},
     "output_type": "execute_result"
    }
   ],
   "source": [
    "data_file='plotting_data/PMIP4_mh_pr_ann_2deg.nc'\n",
    "dataset=Dataset(data_file)\n",
    "recons_file='mh_recons/map_delta_06ka_ALL_grid_2x2.nc'\n",
    "recons_data=Dataset(recons_file)\n",
    "recons_var=recons_data['map_anm_mean'][62:75,42:60]\n",
    "rr=np.ma.filled(recons_var, np.nan)\n",
    "\n",
    "modellist=pd.read_csv('model_lists/PMIP4.csv',skipinitialspace=True,header=0)\n",
    "model=modellist['0']\n",
    "data={}\n",
    "DATA={}\n",
    "for m in model:\n",
    "    re=[]\n",
    "    dd=dataset[m][62:75,42:60]      \n",
    "    xxx=ma.array(dd,mask=recons_var.mask)\n",
    "    xnan=np.ma.filled(xxx, np.nan)\n",
    "    for row in range(xnan.shape[0]):\n",
    "        for col in range(xnan.shape[1]):\n",
    "            val=str(xnan[row][col])\n",
    "            if val != 'nan':\n",
    "                val1=float(val)\n",
    "                re.append(val1)                  \n",
    "    data[m]=re\n",
    "    ave=np.average(re)*365\n",
    "    DATA[m]=ave\n",
    "ddd=pd.DataFrame(data)\n",
    "f='table/7_pmip4.csv'\n",
    "ddd.to_csv(f)\n",
    "DATA"
   ]
  },
  {
   "cell_type": "code",
   "execution_count": null,
   "metadata": {},
   "outputs": [],
   "source": [
    "#"
   ]
  },
  {
   "cell_type": "code",
   "execution_count": null,
   "metadata": {},
   "outputs": [],
   "source": []
  },
  {
   "cell_type": "code",
   "execution_count": 80,
   "metadata": {},
   "outputs": [
    {
     "data": {
      "text/plain": [
       "{'BCC-CSM1-1': -0.7303322301942033,\n",
       " 'CCSM4': -7.456346469855072,\n",
       " 'CNRM-CM5': 6.06315522749855,\n",
       " 'CSIRO-Mk3-6-0': -11.176300460746374,\n",
       " 'CSIRO-Mk3L-1-2': 7.200984119258116,\n",
       " 'EC-EARTH-2-2': -17.4942659415029,\n",
       " 'FGOALS-g2': -30.370682561927662,\n",
       " 'FGOALS-s2': 4.379368819782609,\n",
       " 'GISS-E2-R': 9.869312876717391,\n",
       " 'HadGEM2-CC': 2.82953415944058,\n",
       " 'HadGEM2-ES': 6.625310232892753,\n",
       " 'IPSL-CM5A-LR': -3.981048998130435,\n",
       " 'MIROC-ESM': -46.297457433137666,\n",
       " 'MPI-ESM-P': -1.663451334847826,\n",
       " 'MRI-CGCM3': 3.9225256613507256}"
      ]
     },
     "execution_count": 80,
     "metadata": {},
     "output_type": "execute_result"
    }
   ],
   "source": [
    "# drier Eurasia\n",
    "data_file='plotting_data/PMIP3_mh_pr_ann_2deg.nc'\n",
    "dataset=Dataset(data_file)\n",
    "recons_file='mh_recons/map_delta_06ka_ALL_grid_2x2.nc'\n",
    "recons_data=Dataset(recons_file)\n",
    "recons_var=recons_data['map_anm_mean'][65:75,105:150]\n",
    "rr=np.ma.filled(recons_var, np.nan)\n",
    "\n",
    "modellist=pd.read_csv('model_lists/PMIP3.csv',skipinitialspace=True,header=0)\n",
    "model=modellist['0']\n",
    "data={}\n",
    "DATA={}\n",
    "for m in model:\n",
    "    re=[]\n",
    "    dd=dataset[m][65:75,105:150]      \n",
    "    xxx=ma.array(dd,mask=recons_var.mask)\n",
    "    xnan=np.ma.filled(xxx, np.nan)\n",
    "    for row in range(xnan.shape[0]):\n",
    "        for col in range(xnan.shape[1]):\n",
    "            val=str(xnan[row][col])\n",
    "            if val != 'nan':\n",
    "                val1=float(val)\n",
    "                re.append(val1)                  \n",
    "    data[m]=re\n",
    "    ave=np.average(re)*365\n",
    "    DATA[m]=ave\n",
    "ddd=pd.DataFrame(data)\n",
    "f='table/9_pmip3.csv'\n",
    "ddd.to_csv(f)\n",
    "DATA"
   ]
  },
  {
   "cell_type": "code",
   "execution_count": 81,
   "metadata": {},
   "outputs": [
    {
     "data": {
      "text/plain": [
       "{'AWI-ESM-1-1-LR': -25.4406067019629,\n",
       " 'CESM2': -16.070582889347826,\n",
       " 'FGOALS-f3-L': -18.28663339956522,\n",
       " 'FGOALS-g3': -67.1559476536232,\n",
       " 'GISS-E2-1-G': -8.13534699435008,\n",
       " 'HadGEM3-GC31': -20.72953606818768,\n",
       " 'INM-CM4-8': -2.345024105694927,\n",
       " 'IPSL-CM6A-LR': -26.723227065762313,\n",
       " 'MIROC-ES2L': -26.337546010557972,\n",
       " 'MRI-ESM2-0': -16.227576096672465,\n",
       " 'NESM3': 22.400416360021744,\n",
       " 'NorESM1-F': -19.432096979746376,\n",
       " 'UofT-CCSM-4': -10.323893509702174}"
      ]
     },
     "execution_count": 81,
     "metadata": {},
     "output_type": "execute_result"
    }
   ],
   "source": [
    "data_file='plotting_data/PMIP4_mh_pr_ann_2deg.nc'\n",
    "dataset=Dataset(data_file)\n",
    "recons_file='mh_recons/map_delta_06ka_ALL_grid_2x2.nc'\n",
    "recons_data=Dataset(recons_file)\n",
    "recons_var=recons_data['map_anm_mean'][65:75,105:150]\n",
    "rr=np.ma.filled(recons_var, np.nan)\n",
    "\n",
    "modellist=pd.read_csv('model_lists/PMIP4.csv',skipinitialspace=True,header=0)\n",
    "model=modellist['0']\n",
    "data={}\n",
    "DATA={}\n",
    "for m in model:\n",
    "    re=[]\n",
    "    dd=dataset[m][65:75,105:150]      \n",
    "    xxx=ma.array(dd,mask=recons_var.mask)\n",
    "    xnan=np.ma.filled(xxx, np.nan)\n",
    "    for row in range(xnan.shape[0]):\n",
    "        for col in range(xnan.shape[1]):\n",
    "            val=str(xnan[row][col])\n",
    "            if val != 'nan':\n",
    "                val1=float(val)\n",
    "                re.append(val1)                  \n",
    "    data[m]=re\n",
    "    ave=np.average(re)*365\n",
    "    DATA[m]=ave\n",
    "ddd=pd.DataFrame(data)\n",
    "f='table/9_pmip4.csv'\n",
    "ddd.to_csv(f)\n",
    "DATA\n"
   ]
  },
  {
   "cell_type": "code",
   "execution_count": 82,
   "metadata": {},
   "outputs": [],
   "source": [
    "lat1=[]\n",
    "lon1=[]\n",
    "LAT=[]\n",
    "LON=[]\n",
    "re=[]\n",
    "for row in range(recons_var.shape[0]):\n",
    "        for col in range(recons_var.shape[1]): \n",
    "            val=str(rr[row][col])\n",
    "            if val != 'nan':\n",
    "                val1=float(val)\n",
    "                re.append(val1) \n",
    "                lat1.append(row)\n",
    "                lon1.append(col)\n",
    "                "
   ]
  },
  {
   "cell_type": "code",
   "execution_count": 83,
   "metadata": {},
   "outputs": [],
   "source": [
    "data['lat']=lat1\n",
    "data['lon']=lon1\n",
    "data['recons']=re\n",
    "ddd=pd.DataFrame(data)\n",
    "\n",
    "ddd.to_csv(f)\n",
    "    "
   ]
  },
  {
   "cell_type": "code",
   "execution_count": 86,
   "metadata": {},
   "outputs": [
    {
     "data": {
      "text/plain": [
       "<matplotlib.colorbar.Colorbar at 0x11dc04390>"
      ]
     },
     "execution_count": 86,
     "metadata": {},
     "output_type": "execute_result"
    },
    {
     "data": {
      "image/png": "[encoded data removed]",
      "text/plain": [
       "<Figure size 432x288 with 2 Axes>"
      ]
     },
     "metadata": {
      "needs_background": "light"
     },
     "output_type": "display_data"
    }
   ],
   "source": [
    "plt.imshow(dataset['CESM2'][65:75,105:150]*365)\n",
    "plt.colorbar()"
   ]
  },
  {
   "cell_type": "code",
   "execution_count": null,
   "metadata": {},
   "outputs": [],
   "source": []
  },
  {
   "cell_type": "code",
   "execution_count": 84,
   "metadata": {},
   "outputs": [],
   "source": []
  },
  {
   "cell_type": "code",
   "execution_count": 94,
   "metadata": {},
   "outputs": [],
   "source": []
  },
  {
   "cell_type": "code",
   "execution_count": 87,
   "metadata": {},
   "outputs": [],
   "source": []
  },
  {
   "cell_type": "code",
   "execution_count": 88,
   "metadata": {},
   "outputs": [],
   "source": [
    "\n",
    "    \n",
    "    "
   ]
  },
  {
   "cell_type": "code",
   "execution_count": 95,
   "metadata": {},
   "outputs": [],
   "source": []
  },
  {
   "cell_type": "code",
   "execution_count": 96,
   "metadata": {},
   "outputs": [],
   "source": []
  },
  {
   "cell_type": "code",
   "execution_count": 97,
   "metadata": {},
   "outputs": [
    {
     "data": {
      "text/plain": [
       "{'AWI-ESM-1-1-LR': array(18.57681519),\n",
       " 'CESM2': array(13.81676632),\n",
       " 'EC-Earth3-LR': array(13.82470984),\n",
       " 'FGOALS-f3-L': array(13.32434197),\n",
       " 'FGOALS-g3': array(13.61528268),\n",
       " 'GISS-E2-1-G': array(15.52046976),\n",
       " 'HadGEM3-GC31': array(14.66808336),\n",
       " 'INM-CM4-8': array(16.03490175),\n",
       " 'IPSL-CM6A-LR': array(13.79770463),\n",
       " 'MIROC-ES2L': array(15.2157338),\n",
       " 'MPI-ESM1-2-LR': array(16.67707326),\n",
       " 'MRI-ESM2-0': array(15.690946),\n",
       " 'NESM3': array(17.88029623),\n",
       " 'NorESM1-F': array(16.51063774),\n",
       " 'NorESM2-LM': array(14.42158023),\n",
       " 'UofT-CCSM-4': array(16.36515277)}"
      ]
     },
     "execution_count": 97,
     "metadata": {},
     "output_type": "execute_result"
    }
   ],
   "source": [
    "MH_lat"
   ]
  },
  {
   "cell_type": "code",
   "execution_count": 98,
   "metadata": {},
   "outputs": [
    {
     "data": {
      "text/plain": [
       "{'AWI-ESM-1-1-LR': array(15.430751),\n",
       " 'CESM2': array(14.02848235),\n",
       " 'EC-Earth3-LR': array(14.28884486),\n",
       " 'FGOALS-f3-L': array(11.80324073),\n",
       " 'FGOALS-g3': array(11.85889826),\n",
       " 'GISS-E2-1-G': array(13.89938602),\n",
       " 'HadGEM3-GC31': array(12.36138078),\n",
       " 'INM-CM4-8': array(12.89054439),\n",
       " 'IPSL-CM6A-LR': array(12.8556761),\n",
       " 'MIROC-ES2L': array(13.93224863),\n",
       " 'MPI-ESM1-2-LR': array(12.98916177),\n",
       " 'MRI-ESM2-0': array(12.40011948),\n",
       " 'NESM3': array(14.80024356),\n",
       " 'NorESM1-F': array(15.11250808),\n",
       " 'NorESM2-LM': array(16.28112576),\n",
       " 'UofT-CCSM-4': array(14.50210988)}"
      ]
     },
     "execution_count": 98,
     "metadata": {},
     "output_type": "execute_result"
    }
   ],
   "source": [
    "PI_lat"
   ]
  },
  {
   "cell_type": "code",
   "execution_count": 99,
   "metadata": {},
   "outputs": [
    {
     "data": {
      "text/plain": [
       "{'AWI-ESM-1-1-LR': [18.57681519236091, 15.430750998787849, 3.1460641935730624],\n",
       " 'CESM2': [13.816766323796411, 14.028482354792716, -0.2117160309963051],\n",
       " 'EC-Earth3-LR': [13.824709840148037, 14.28884486496671, -0.46413502481867397],\n",
       " 'FGOALS-f3-L': [13.324341970583177, 11.803240732781521, 1.5211012378016555],\n",
       " 'FGOALS-g3': [13.615282680688901, 11.858898258376707, 1.7563844223121947],\n",
       " 'GISS-E2-1-G': [15.520469762963254, 13.899386020972925, 1.6210837419903292],\n",
       " 'HadGEM3-GC31': [14.668083362473066, 12.361380776598423, 2.3067025858746426],\n",
       " 'INM-CM4-8': [16.03490174917936, 12.890544387811506, 3.144357361367856],\n",
       " 'IPSL-CM6A-LR': [13.797704625734871, 12.85567609599026, 0.9420285297446114],\n",
       " 'MIROC-ES2L': [15.215733798310136, 13.93224862567078, 1.283485172639356],\n",
       " 'MPI-ESM1-2-LR': [16.67707326333741, 12.989161769142264, 3.687911494195145],\n",
       " 'MRI-ESM2-0': [15.690945999518252, 12.400119478052792, 3.29082652146546],\n",
       " 'NESM3': [17.88029622785402, 14.800243557040943, 3.080052670813078],\n",
       " 'NorESM1-F': [16.510637738545817, 15.112508078564376, 1.398129659981441],\n",
       " 'NorESM2-LM': [14.42158022537201, 16.2811257580076, -1.8595455326355914],\n",
       " 'UofT-CCSM-4': [16.36515277220806, 14.502109876896832, 1.863042895311228]}"
      ]
     },
     "execution_count": 99,
     "metadata": {},
     "output_type": "execute_result"
    }
   ],
   "source": [
    "LAT"
   ]
  },
  {
   "cell_type": "code",
   "execution_count": 17,
   "metadata": {},
   "outputs": [
    {
     "data": {
      "text/plain": [
       "{'AWI-ESM-1-1-LR': array(18.69878454),\n",
       " 'CESM2': array(13.444877),\n",
       " 'FGOALS-f3-L': array(13.52571392),\n",
       " 'FGOALS-g3': array(11.3452412),\n",
       " 'GISS-E2-1-G': array(15.5163558),\n",
       " 'HadGEM3-GC31': array(14.67508079),\n",
       " 'INM-CM4-8': array(16.03490175),\n",
       " 'IPSL-CM6A-LR': array(13.81437104),\n",
       " 'MIROC-ES2L': array(15.21907972),\n",
       " 'MRI-ESM2-0': array(15.60320329),\n",
       " 'NESM3': array(17.86386903),\n",
       " 'NorESM1-F': array(16.48765894),\n",
       " 'UofT-CCSM-4': array(16.40384097)}"
      ]
     },
     "execution_count": 17,
     "metadata": {},
     "output_type": "execute_result"
    }
   ],
   "source": [
    "MH_lat"
   ]
  },
  {
   "cell_type": "code",
   "execution_count": 18,
   "metadata": {},
   "outputs": [
    {
     "data": {
      "text/plain": [
       "{'AWI-ESM-1-1-LR': array(15.44904909),\n",
       " 'CESM2': array(15.03338747),\n",
       " 'FGOALS-f3-L': array(11.85668192),\n",
       " 'FGOALS-g3': array(11.85430124),\n",
       " 'GISS-E2-1-G': array(13.85916556),\n",
       " 'HadGEM3-GC31': array(12.79850108),\n",
       " 'INM-CM4-8': array(12.89054439),\n",
       " 'IPSL-CM6A-LR': array(13.0887974),\n",
       " 'MIROC-ES2L': array(14.10062473),\n",
       " 'MRI-ESM2-0': array(12.68196468),\n",
       " 'NESM3': array(14.80256105),\n",
       " 'NorESM1-F': array(15.10306975),\n",
       " 'UofT-CCSM-4': array(14.5035956)}"
      ]
     },
     "execution_count": 18,
     "metadata": {},
     "output_type": "execute_result"
    }
   ],
   "source": [
    "PI_lat"
   ]
  },
  {
   "cell_type": "code",
   "execution_count": 48,
   "metadata": {},
   "outputs": [
    {
     "data": {
      "text/plain": [
       "{'BCC-CSM1-1': [14.919333156749103, 13.887892860975086, 1.0314402957740167],\n",
       " 'CCSM4': [16.797530557743404, 15.34237224646003, 1.4551583112833733],\n",
       " 'CNRM-CM5': [17.61715004616017, 15.709293274052166, 1.907856772108003],\n",
       " 'CSIRO-Mk3-6-0': [20.13060923227739, 17.97282110354337, 2.157788128734019],\n",
       " 'CSIRO-Mk3L-1-2': [18.819394899440947, 11.79469494394857, 7.024699955492377],\n",
       " 'EC-EARTH-2-2': [17.158388496626664, 14.56740752141096, 2.590980975215704],\n",
       " 'FGOALS-g2': [17.4821369552887, 14.662527578738734, 2.8196093765499644],\n",
       " 'FGOALS-s2': [15.338007999625232, 12.959744917546123, 2.3782630820791084],\n",
       " 'GISS-E2-R': [16.362952860182148, 16.4603822203963, -0.0974293602141536],\n",
       " 'HadGEM2-CC': [14.211426327545256, 17.316513693686154, -3.105087366140898],\n",
       " 'HadGEM2-ES': [13.78728823787161, 14.581625698405702, -0.7943374605340914],\n",
       " 'IPSL-CM5A-LR': [14.510895536438818, 12.725858053746864, 1.7850374826919548],\n",
       " 'MIROC-ESM': [17.56006384249268, 15.474806124197313, 2.0852577182953684],\n",
       " 'MPI-ESM-P': [16.51592042924358, 14.02224927741677, 2.493671151826808],\n",
       " 'MRI-CGCM3': [12.464809141476422, 8.9721998795529, 3.4926092619235227]}"
      ]
     },
     "execution_count": 48,
     "metadata": {},
     "output_type": "execute_result"
    }
   ],
   "source": [
    "LAT"
   ]
  },
  {
   "cell_type": "code",
   "execution_count": 64,
   "metadata": {},
   "outputs": [
    {
     "data": {
      "text/plain": [
       "{'AWI-ESM-1-1-LR': [18.6042941061879, 15.430740039925597, 3.1735540662623034],\n",
       " 'CESM2': [14.351354448697023, 17.004185716659634, -2.652831267962611],\n",
       " 'FGOALS-f3-L': [13.3539982920876, 11.42601598546201, 1.927982306625589],\n",
       " 'FGOALS-g3': [13.426576843813478, 12.358489633664194, 1.0680872101492849],\n",
       " 'GISS-E2-1-G': [15.486338805908177, 13.895844130041205, 1.5904946758669727],\n",
       " 'HadGEM3-GC31': [14.970143282117327, 11.107973701397134, 3.8621695807201935],\n",
       " 'INM-CM4-8': [15.608400426698083, 13.507228561637039, 2.101171865061044],\n",
       " 'IPSL-CM6A-LR': [14.051429398640096, 13.269270276282779, 0.7821591223573172],\n",
       " 'MIROC-ES2L': [15.182441009312823, 14.255730806096219, 0.9267102032166044],\n",
       " 'MRI-ESM2-0': [15.480240252944535, 14.228236239673791, 1.252004013270744],\n",
       " 'NESM3': [17.868952128777877, 14.18517677381897, 3.6837753549589074],\n",
       " 'NorESM1-F': [16.76665344399234, 15.258915355872595, 1.5077380881197442],\n",
       " 'UofT-CCSM-4': [16.500611279183836, 16.13429321206004, 0.366318067123796]}"
      ]
     },
     "execution_count": 64,
     "metadata": {},
     "output_type": "execute_result"
    }
   ],
   "source": [
    "LAT"
   ]
  },
  {
   "cell_type": "code",
   "execution_count": 32,
   "metadata": {},
   "outputs": [
    {
     "data": {
      "text/plain": [
       "{'AWI-ESM-1-1-LR': [18.698784538508388,\n",
       "  15.449049086107921,\n",
       "  3.2497354524004667],\n",
       " 'CESM2': [13.444877003051676, 15.033387466587037, -1.5885104635353606],\n",
       " 'FGOALS-f3-L': [13.525713921759332, 11.85668191870036, 1.6690320030589714],\n",
       " 'FGOALS-g3': [11.345241201478487, 11.854301242499519, -0.5090600410210318],\n",
       " 'GISS-E2-1-G': [15.516355804464236, 13.859165561948119, 1.6571902425161174],\n",
       " 'HadGEM3-GC31': [14.675080791724989, 12.798501081828505, 1.8765797098964843],\n",
       " 'INM-CM4-8': [16.03490174917936, 12.890544387811506, 3.144357361367856],\n",
       " 'IPSL-CM6A-LR': [13.81437103611114, 13.088797400137706, 0.7255736359734346],\n",
       " 'MIROC-ES2L': [15.219079719469823, 14.100624733787576, 1.1184549856822468],\n",
       " 'MRI-ESM2-0': [15.603203293069459, 12.681964679367486, 2.9212386137019735],\n",
       " 'NESM3': [17.863869034320388, 14.802561052620124, 3.0613079817002635],\n",
       " 'NorESM1-F': [16.487658940668087, 15.103069745919727, 1.3845891947483597],\n",
       " 'UofT-CCSM-4': [16.403840972374773, 14.503595599406935, 1.900245372967838]}"
      ]
     },
     "execution_count": 32,
     "metadata": {},
     "output_type": "execute_result"
    }
   ],
   "source": [
    "LAT"
   ]
  },
  {
   "cell_type": "code",
   "execution_count": 24,
   "metadata": {},
   "outputs": [
    {
     "data": {
      "text/plain": [
       "{'BCC-CSM1-1': [14.89175028598051, 13.955769669477421, 0.9359806165030893],\n",
       " 'CCSM4': [16.568906008600543, 15.065655290741311, 1.5032507178592311],\n",
       " 'CNRM-CM5': [16.84941993268409, 15.516978490442856, 1.3324414422412332],\n",
       " 'CSIRO-Mk3-6-0': [26.678485504692087, 15.50754269514507, 11.170942809547018],\n",
       " 'CSIRO-Mk3L-1-2': [32.54786716390895, 6.385278057826928, 26.16258910608202],\n",
       " 'EC-EARTH-2-2': [17.14169955189843, 14.48361990382912, 2.658079648069311],\n",
       " 'FGOALS-g2': [17.474267294969714, 14.635280366468416, 2.8389869285012974],\n",
       " 'FGOALS-s2': [14.842193562991177, 12.81840174871919, 2.0237918142719877],\n",
       " 'GISS-E2-R': [15.333116521304529, 14.204508976322202, 1.1286075449823265],\n",
       " 'HadGEM2-CC': [14.193554063680523, 11.634138604899233, 2.55941545878129],\n",
       " 'HadGEM2-ES': [14.635644153522925, 11.70405310958119, 2.9315910439417348],\n",
       " 'IPSL-CM5A-LR': [14.178108858145645, 12.36947652012514, 1.8086323380205052],\n",
       " 'MIROC-ESM': [17.50089600780695, 15.34947194684331, 2.15142406096364],\n",
       " 'MPI-ESM-P': [16.413851579430045, 14.532745772074698, 1.8811058073553468],\n",
       " 'MRI-CGCM3': [16.459615158240148, 13.417122895783603, 3.0424922624565447]}"
      ]
     },
     "execution_count": 24,
     "metadata": {},
     "output_type": "execute_result"
    }
   ],
   "source": [
    "LAT"
   ]
  },
  {
   "cell_type": "code",
   "execution_count": 34,
   "metadata": {},
   "outputs": [],
   "source": [
    "lll=pd.DataFrame(LAT)\n",
    "lll.to_csv('../../Expansion of NAF4.csv')"
   ]
  },
  {
   "cell_type": "code",
   "execution_count": 33,
   "metadata": {},
   "outputs": [
    {
     "data": {
      "text/plain": [
       "{'AWI-ESM-1-1-LR': [18.698784538508388,\n",
       "  15.449049086107921,\n",
       "  3.2497354524004667],\n",
       " 'CESM2': [13.444877003051676, 15.033387466587037, -1.5885104635353606],\n",
       " 'FGOALS-f3-L': [13.525713921759332, 11.85668191870036, 1.6690320030589714],\n",
       " 'FGOALS-g3': [11.345241201478487, 11.854301242499519, -0.5090600410210318],\n",
       " 'GISS-E2-1-G': [15.516355804464236, 13.859165561948119, 1.6571902425161174],\n",
       " 'HadGEM3-GC31': [14.675080791724989, 12.798501081828505, 1.8765797098964843],\n",
       " 'INM-CM4-8': [16.03490174917936, 12.890544387811506, 3.144357361367856],\n",
       " 'IPSL-CM6A-LR': [13.81437103611114, 13.088797400137706, 0.7255736359734346],\n",
       " 'MIROC-ES2L': [15.219079719469823, 14.100624733787576, 1.1184549856822468],\n",
       " 'MRI-ESM2-0': [15.603203293069459, 12.681964679367486, 2.9212386137019735],\n",
       " 'NESM3': [17.863869034320388, 14.802561052620124, 3.0613079817002635],\n",
       " 'NorESM1-F': [16.487658940668087, 15.103069745919727, 1.3845891947483597],\n",
       " 'UofT-CCSM-4': [16.403840972374773, 14.503595599406935, 1.900245372967838]}"
      ]
     },
     "execution_count": 33,
     "metadata": {},
     "output_type": "execute_result"
    }
   ],
   "source": [
    "LAT"
   ]
  },
  {
   "cell_type": "code",
   "execution_count": null,
   "metadata": {},
   "outputs": [],
   "source": []
  }
 ],
 "metadata": {
  "kernelspec": {
   "display_name": "Python 3",
   "language": "python",
   "name": "python3"
  },
  "language_info": {
   "codemirror_mode": {
    "name": "ipython",
    "version": 3
   },
   "file_extension": ".py",
   "mimetype": "text/x-python",
   "name": "python",
   "nbconvert_exporter": "python",
   "pygments_lexer": "ipython3",
   "version": "3.7.4"
  }
 },
 "nbformat": 4,
 "nbformat_minor": 2
}
