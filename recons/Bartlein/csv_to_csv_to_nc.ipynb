{
 "cells": [
  {
   "cell_type": "code",
   "execution_count": 1,
   "metadata": {},
   "outputs": [],
   "source": [
    "import xarray as xr\n",
    "import matplotlib.pyplot as plt\n",
    "import numpy as np\n",
    "import pandas as pd\n",
    "import xesmf as xe\n",
    "%matplotlib inline\n",
    "import cartopy\n",
    "import cartopy.crs as ccrs\n",
    "import matplotlib\n",
    "from netCDF4 import Dataset\n",
    "from mpl_toolkits.axes_grid1 import make_axes_locatable\n",
    "import numpy.ma as ma\n",
    "import math\n",
    "import xlrd\n",
    "import os\n",
    "import matplotlib.colors as colors\n",
    "import seaborn as sns\n",
    "import scipy"
   ]
  },
  {
   "cell_type": "markdown",
   "metadata": {},
   "source": [
    "# csv to csv\n",
    "round coordinates"
   ]
  },
  {
   "cell_type": "code",
   "execution_count": 10,
   "metadata": {},
   "outputs": [],
   "source": [
    "def csv_to_csv(season):\n",
    "    filename='anom6k_%s.csv'%season\n",
    "    df= pd.read_csv(filename,skipinitialspace=True,header=0)  \n",
    "    lat=df['lat']\n",
    "    lon=df['lon']\n",
    "    anom=df['anom']\n",
    "    lat1=np.zeros(len(lat))\n",
    "    lon1=np.zeros(len(lon))\n",
    "    anom1=np.zeros(len(anom))\n",
    "    for i in range(len(lat1)):\n",
    "        anom1[i]=anom[i]\n",
    "        r1=lat[i]\n",
    "        c1=lon[i]\n",
    "        if r1<0:\n",
    "            r=int(r1)-0.5\n",
    "        else:\n",
    "            r=int(r1)+0.5\n",
    "        \n",
    "        if c1<0:\n",
    "            c=int(c1)-0.5\n",
    "        else:\n",
    "            c=int(c1)+0.5     \n",
    "        lat1[i]=r\n",
    "        lon1[i]=c        \n",
    "    f='mh_reconss/%s_try.csv'%season\n",
    "    d=pd.DataFrame({'lat':lat1,'lon':lon1,'anom':anom1})\n",
    "    d.to_csv(f)"
   ]
  },
  {
   "cell_type": "code",
   "execution_count": 11,
   "metadata": {},
   "outputs": [],
   "source": [
    "csv_to_csv('summer')\n",
    "csv_to_csv('winter')\n",
    "csv_to_csv('annual')"
   ]
  },
  {
   "cell_type": "markdown",
   "metadata": {},
   "source": [
    "# csv to nc"
   ]
  },
  {
   "cell_type": "code",
   "execution_count": 2,
   "metadata": {},
   "outputs": [],
   "source": [
    "def csv_to_nc(season):\n",
    "    filename='mh_reconss/%s.csv'%season\n",
    "    df1= pd.read_csv(filename,skipinitialspace=True,header=0)\n",
    "    lat1=df1['lat']\n",
    "    lon1=df1['lon']\n",
    "    anom1=df1['anom']\n",
    "    zz1=np.zeros((180,360))\n",
    "    for i in range(len(lat1)):\n",
    "        r1=lat1[i]\n",
    "        c1=lon1[i]       \n",
    "        r=int(r1+89.5)\n",
    "        c=int(c1+179.5)                  \n",
    "        val1=anom1[i]\n",
    "        zz1[r][c]=val1\n",
    "    mask1 = zz1==0\n",
    "    aaa1=ma.array(zz1,mask=mask1)\n",
    "    xnan1=np.ma.filled(aaa1, np.nan)\n",
    "    return xnan1\n",
    "    "
   ]
  },
  {
   "cell_type": "code",
   "execution_count": 3,
   "metadata": {},
   "outputs": [],
   "source": [
    "summer=csv_to_nc('summer')\n",
    "winter=csv_to_nc('winter')\n",
    "annual=csv_to_nc('annual')"
   ]
  },
  {
   "cell_type": "code",
   "execution_count": 4,
   "metadata": {},
   "outputs": [],
   "source": [
    "s_w=summer-winter"
   ]
  },
  {
   "cell_type": "code",
   "execution_count": 44,
   "metadata": {},
   "outputs": [],
   "source": [
    "#Create netCDF4 file to store data\n",
    "lonS=np.arange(-179.5,180,1)\n",
    "latS=np.arange(-89.5,90,1)\n",
    "\n",
    "d=Dataset('mh_reconss/anom6k_1x1.nc','w',format='NETCDF4')\n",
    "d.createDimension('lon',360)  \n",
    "d.createDimension('lat',180)  \n",
    "d.createVariable(\"lon\",'f',(\"lon\"))  \n",
    "d.createVariable(\"lat\",'f',(\"lat\"))  \n",
    "d.variables['lat'][:]=latS     \n",
    "d.variables['lon'][:]=lonS \n",
    "d.createVariable('diff_s_w','f',('lat','lon'))\n",
    "d.variables['diff_s_w'][:]=s_w \n",
    "d.createVariable('summer','f',('lat','lon'))\n",
    "d.variables['summer'][:]=summer\n",
    "d.createVariable('winter','f',('lat','lon'))\n",
    "d.variables['winter'][:]=winter \n",
    "d.createVariable('annual','f',('lat','lon'))\n",
    "d.variables['annual'][:]=annual \n",
    "d.close()\n",
    "\n",
    "\n"
   ]
  },
  {
   "cell_type": "code",
   "execution_count": 45,
   "metadata": {
    "scrolled": true
   },
   "outputs": [
    {
     "data": {
      "text/plain": [
       "<matplotlib.image.AxesImage at 0x124e7a810>"
      ]
     },
     "execution_count": 45,
     "metadata": {},
     "output_type": "execute_result"
    },
    {
     "data": {
      "image/png": "[encoded data removed]",
      "text/plain": [
       "<Figure size 432x288 with 1 Axes>"
      ]
     },
     "metadata": {
      "needs_background": "light"
     },
     "output_type": "display_data"
    }
   ],
   "source": [
    "plt.imshow(s_w)"
   ]
  },
  {
   "cell_type": "code",
   "execution_count": 6,
   "metadata": {},
   "outputs": [],
   "source": [
    "RE={}\n",
    "RE['lat']=[]\n",
    "RE['lon']=[]\n",
    "RE['s_w']=[]\n",
    "RE['row']=[]\n",
    "RE['col']=[]\n",
    "for row in range(180):\n",
    "    for col in range(360):\n",
    "        val=str(s_w[row][col])\n",
    "        if val != 'nan':\n",
    "            RE['row'].append(row)\n",
    "            RE['col'].append(col)\n",
    "            RE['s_w'].append(val)            \n",
    "            if row<90:\n",
    "                r=row-89.5\n",
    "            else:\n",
    "                r=row-88.5\n",
    "            if col<180:\n",
    "                c=col-179.5\n",
    "            else:\n",
    "                c=col-178.5\n",
    "            RE['lat'].append(r)\n",
    "            RE['lon'].append(c)\n",
    "RR=pd.DataFrame(RE)\n",
    "RR.to_csv('SW_point.csv')"
   ]
  },
  {
   "cell_type": "code",
   "execution_count": 7,
   "metadata": {},
   "outputs": [],
   "source": [
    "RE={}\n",
    "RE['lat']=[]\n",
    "RE['lon']=[]\n",
    "RE['anom']=[]\n",
    "RE['row']=[]\n",
    "RE['col']=[]\n",
    "for row in range(180):\n",
    "    for col in range(360):\n",
    "        val=str(summer[row][col])\n",
    "        if val != 'nan':\n",
    "            RE['row'].append(row)\n",
    "            RE['col'].append(col)\n",
    "            RE['anom'].append(val)            \n",
    "            if row<90:\n",
    "                r=row-89.5\n",
    "            else:\n",
    "                r=row-88.5\n",
    "            if col<180:\n",
    "                c=col-179.5\n",
    "            else:\n",
    "                c=col-178.5\n",
    "            RE['lat'].append(r)\n",
    "            RE['lon'].append(c)\n",
    "RR=pd.DataFrame(RE)\n",
    "RR.to_csv('summer_point.csv')"
   ]
  },
  {
   "cell_type": "code",
   "execution_count": 8,
   "metadata": {},
   "outputs": [],
   "source": [
    "RE={}\n",
    "RE['lat']=[]\n",
    "RE['lon']=[]\n",
    "RE['anom']=[]\n",
    "RE['row']=[]\n",
    "RE['col']=[]\n",
    "for row in range(180):\n",
    "    for col in range(360):\n",
    "        val=str(winter[row][col])\n",
    "        if val != 'nan':\n",
    "            RE['row'].append(row)\n",
    "            RE['col'].append(col)\n",
    "            RE['anom'].append(val)            \n",
    "            if row<90:\n",
    "                r=row-89.5\n",
    "            else:\n",
    "                r=row-88.5\n",
    "            if col<180:\n",
    "                c=col-179.5\n",
    "            else:\n",
    "                c=col-178.5\n",
    "            RE['lat'].append(r)\n",
    "            RE['lon'].append(c)\n",
    "RR=pd.DataFrame(RE)\n",
    "RR.to_csv('winter_point.csv')"
   ]
  },
  {
   "cell_type": "code",
   "execution_count": 9,
   "metadata": {},
   "outputs": [],
   "source": [
    "RE={}\n",
    "RE['lat']=[]\n",
    "RE['lon']=[]\n",
    "RE['anom']=[]\n",
    "RE['row']=[]\n",
    "RE['col']=[]\n",
    "for row in range(180):\n",
    "    for col in range(360):\n",
    "        val=str(annual[row][col])\n",
    "        if val != 'nan':\n",
    "            RE['anom'].append(val) \n",
    "            RE['row'].append(row)\n",
    "            RE['col'].append(col)\n",
    "            if row<90:\n",
    "                r=row-89.5\n",
    "            else:\n",
    "                r=row-88.5\n",
    "            if col<180:\n",
    "                c=col-179.5\n",
    "            else:\n",
    "                c=col-178.5\n",
    "            RE['lat'].append(r)\n",
    "            RE['lon'].append(c)\n",
    "RR=pd.DataFrame(RE)\n",
    "RR.to_csv('annual_point.csv')"
   ]
  },
  {
   "cell_type": "code",
   "execution_count": null,
   "metadata": {},
   "outputs": [],
   "source": []
  },
  {
   "cell_type": "code",
   "execution_count": null,
   "metadata": {},
   "outputs": [],
   "source": []
  },
  {
   "cell_type": "code",
   "execution_count": 9,
   "metadata": {},
   "outputs": [],
   "source": [
    "recons_file1='mh_recons/warmtemp_delta_06ka_ALL_grid_2x2.nc'\n",
    "recons_file2='mh_recons/coldtemp_delta_06ka_ALL_grid_2x2.nc'\n",
    "var1='mtwa_anm_mean'\n",
    "var2='mtco_anm_mean'\n",
    "var1e='mtwa_se_mean'\n",
    "var2e='mtco_se_mean' \n",
    "recons_data1=Dataset(recons_file1)\n",
    "recons_data2=Dataset(recons_file2)\n",
    "recons_var1=recons_data1[var1][:]\n",
    "recons_var2=recons_data2[var2][:]\n",
    "recons_err1=recons_data1[var1e][:] \n",
    "recons_err2=recons_data2[var2e][:]\n",
    "xnan1=np.ma.filled(recons_var1, np.nan)\n",
    "xnan2=np.ma.filled(recons_err2, np.nan)\n",
    "xnan=xnan1-xnan2"
   ]
  },
  {
   "cell_type": "code",
   "execution_count": 10,
   "metadata": {},
   "outputs": [],
   "source": [
    "lonS=np.linspace(-179,179,180)\n",
    "latS=np.linspace(-89,89,90)\n",
    "\n",
    "d=Dataset('mh_recons/bartlein_mtwa_mtco.nc','w',format='NETCDF4')\n",
    "d.createDimension('lon',180)  \n",
    "d.createDimension('lat',90)  \n",
    "d.createVariable(\"lon\",'f',(\"lon\"))  \n",
    "d.createVariable(\"lat\",'f',(\"lat\"))  \n",
    "d.variables['lat'][:]=latS     \n",
    "d.variables['lon'][:]=lonS \n",
    "d.createVariable('diff_mtwa_mtco','f',('lat','lon'))\n",
    "d.variables['diff_mtwa_mtco'][:]=xnan   \n",
    "d.close()"
   ]
  },
  {
   "cell_type": "code",
   "execution_count": 11,
   "metadata": {},
   "outputs": [],
   "source": [
    "mask= xnan==np.nan\n",
    "recons_errr1=ma.array(recons_err1,mask=mask)\n",
    "xnane1=np.ma.filled(recons_errr1, np.nan)\n",
    "recons_errr2=ma.array(recons_err2,mask=mask)\n",
    "xnane2=np.ma.filled(recons_errr2, np.nan)"
   ]
  },
  {
   "cell_type": "code",
   "execution_count": 20,
   "metadata": {},
   "outputs": [],
   "source": [
    "d=Dataset('bartlein_mtwa_mtco.nc')\n",
    "\n",
    "e1=d.variables['mtwa_err'][:]\n",
    "r1=d.variables['diff_mtwa_mtco'][:]\n",
    "e2=d.variables['mtco_err'][:]\n",
    "d.close()"
   ]
  },
  {
   "cell_type": "code",
   "execution_count": 15,
   "metadata": {},
   "outputs": [],
   "source": [
    "for r in range(90):\n",
    "    for c in range(180):\n",
    "        if r1[r][c]<-500:\n",
    "            r1[r][c]=np.nan\n",
    "        if e1[r][c]>500:\n",
    "            e1[r][c]=np.nan\n",
    "        if e2[r][c]>500:\n",
    "            e2[r][c]=np.nan\n",
    "            "
   ]
  },
  {
   "cell_type": "code",
   "execution_count": 16,
   "metadata": {},
   "outputs": [],
   "source": [
    "d.close()"
   ]
  },
  {
   "cell_type": "code",
   "execution_count": 12,
   "metadata": {},
   "outputs": [],
   "source": [
    "d=Dataset('mh_recons/bartlein_mtwa_mtco.nc','a')\n",
    "\n",
    "d.variables['mtwa_err'][:]=xnane1\n",
    "\n",
    "d.variables['mtco_err'][:]=xnane2  \n",
    "d.close()"
   ]
  },
  {
   "cell_type": "code",
   "execution_count": 21,
   "metadata": {},
   "outputs": [],
   "source": [
    "po={}\n",
    "po['lat']=[]\n",
    "po['lon']=[]\n",
    "po['ref']=[]\n",
    "for row in range(90):\n",
    "    for col in range(180):          \n",
    "        val_var=str(r1[row][col])\n",
    "        if val_var != 'nan':\n",
    "            val=float(val_var)\n",
    "            po['ref'].append(val)\n",
    "            po['lat'].append(row)\n",
    "            po['lon'].append(col)\n",
    "f1='mh_recons/bartlein_recons_points.csv'\n",
    "R=pd.DataFrame(po)\n",
    "R.to_csv(f1)"
   ]
  },
  {
   "cell_type": "code",
   "execution_count": 7,
   "metadata": {},
   "outputs": [],
   "source": [
    "err1=ma.array(recons_err1,mask=mask)\n",
    "xnane1=np.ma.filled(err1, np.nan)\n",
    "err2=ma.array(recons_err2,mask=mask)\n",
    "xnane2=np.ma.filled(err2, np.nan)"
   ]
  },
  {
   "cell_type": "code",
   "execution_count": 23,
   "metadata": {},
   "outputs": [],
   "source": [
    "po={}\n",
    "po['lat']=[]\n",
    "po['lon']=[]\n",
    "po['ref']=[]\n",
    "for row in range(90):\n",
    "    for col in range(180):          \n",
    "        val_var=str(e1[row][col])\n",
    "        if val_var != 'nan':\n",
    "            val=float(val_var)\n",
    "            po['ref'].append(val)\n",
    "            po['lat'].append(row)\n",
    "            po['lon'].append(col)\n",
    "f1='mh_recons/bartlein_mtwa_err_recons_points.csv'\n",
    "R=pd.DataFrame(po)\n",
    "R.to_csv(f1)"
   ]
  },
  {
   "cell_type": "code",
   "execution_count": null,
   "metadata": {},
   "outputs": [],
   "source": []
  },
  {
   "cell_type": "code",
   "execution_count": null,
   "metadata": {},
   "outputs": [],
   "source": []
  },
  {
   "cell_type": "code",
   "execution_count": null,
   "metadata": {},
   "outputs": [],
   "source": []
  },
  {
   "cell_type": "code",
   "execution_count": null,
   "metadata": {},
   "outputs": [],
   "source": []
  }
 ],
 "metadata": {
  "kernelspec": {
   "display_name": "Python 3",
   "language": "python",
   "name": "python3"
  },
  "language_info": {
   "codemirror_mode": {
    "name": "ipython",
    "version": 3
   },
   "file_extension": ".py",
   "mimetype": "text/x-python",
   "name": "python",
   "nbconvert_exporter": "python",
   "pygments_lexer": "ipython3",
   "version": "3.7.4"
  }
 },
 "nbformat": 4,
 "nbformat_minor": 2
}
